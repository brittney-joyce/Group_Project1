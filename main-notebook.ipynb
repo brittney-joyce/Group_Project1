{
 "cells": [
  {
   "cell_type": "code",
   "execution_count": 3,
   "metadata": {
    "collapsed": true
   },
   "outputs": [],
   "source": [
    "#Import statements\n",
    "import pandas as pd\n",
    "import numpy as np\n",
    "import matplotlib.pyplot as plt"
   ]
  },
  {
   "cell_type": "code",
   "execution_count": 4,
   "metadata": {
    "collapsed": true
   },
   "outputs": [],
   "source": [
    "dictionary_fp = 'Data/dictionary.csv'\n",
    "summer_olympic_medalists_fp = 'Data/Summer Olympic medallists 1896 to 2008 - ALL MEDALISTS.csv'\n",
    "winter_fp = 'Data/winter.csv'"
   ]
  },
  {
   "cell_type": "code",
   "execution_count": 5,
   "metadata": {
    "collapsed": true
   },
   "outputs": [],
   "source": [
    "dictionary_data = pd.read_csv(dictionary_fp)"
   ]
  },
  {
   "cell_type": "code",
   "execution_count": 6,
   "metadata": {},
   "outputs": [
    {
     "data": {
      "text/html": [
       "<div>\n",
       "<style>\n",
       "    .dataframe thead tr:only-child th {\n",
       "        text-align: right;\n",
       "    }\n",
       "\n",
       "    .dataframe thead th {\n",
       "        text-align: left;\n",
       "    }\n",
       "\n",
       "    .dataframe tbody tr th {\n",
       "        vertical-align: top;\n",
       "    }\n",
       "</style>\n",
       "<table border=\"1\" class=\"dataframe\">\n",
       "  <thead>\n",
       "    <tr style=\"text-align: right;\">\n",
       "      <th></th>\n",
       "      <th>Country</th>\n",
       "      <th>Code</th>\n",
       "      <th>Population</th>\n",
       "      <th>GDP per Capita</th>\n",
       "    </tr>\n",
       "  </thead>\n",
       "  <tbody>\n",
       "    <tr>\n",
       "      <th>0</th>\n",
       "      <td>Afghanistan</td>\n",
       "      <td>AFG</td>\n",
       "      <td>32526562.0</td>\n",
       "      <td>594.323081</td>\n",
       "    </tr>\n",
       "    <tr>\n",
       "      <th>1</th>\n",
       "      <td>Albania</td>\n",
       "      <td>ALB</td>\n",
       "      <td>2889167.0</td>\n",
       "      <td>3945.217582</td>\n",
       "    </tr>\n",
       "    <tr>\n",
       "      <th>2</th>\n",
       "      <td>Algeria</td>\n",
       "      <td>ALG</td>\n",
       "      <td>39666519.0</td>\n",
       "      <td>4206.031232</td>\n",
       "    </tr>\n",
       "    <tr>\n",
       "      <th>3</th>\n",
       "      <td>American Samoa*</td>\n",
       "      <td>ASA</td>\n",
       "      <td>55538.0</td>\n",
       "      <td>NaN</td>\n",
       "    </tr>\n",
       "    <tr>\n",
       "      <th>4</th>\n",
       "      <td>Andorra</td>\n",
       "      <td>AND</td>\n",
       "      <td>70473.0</td>\n",
       "      <td>NaN</td>\n",
       "    </tr>\n",
       "  </tbody>\n",
       "</table>\n",
       "</div>"
      ],
      "text/plain": [
       "           Country Code  Population  GDP per Capita\n",
       "0      Afghanistan  AFG  32526562.0      594.323081\n",
       "1          Albania  ALB   2889167.0     3945.217582\n",
       "2          Algeria  ALG  39666519.0     4206.031232\n",
       "3  American Samoa*  ASA     55538.0             NaN\n",
       "4          Andorra  AND     70473.0             NaN"
      ]
     },
     "execution_count": 6,
     "metadata": {},
     "output_type": "execute_result"
    }
   ],
   "source": [
    "dictionary_data.head()"
   ]
  },
  {
   "cell_type": "code",
   "execution_count": 27,
   "metadata": {},
   "outputs": [
    {
     "data": {
      "text/html": [
       "<div>\n",
       "<style>\n",
       "    .dataframe thead tr:only-child th {\n",
       "        text-align: right;\n",
       "    }\n",
       "\n",
       "    .dataframe thead th {\n",
       "        text-align: left;\n",
       "    }\n",
       "\n",
       "    .dataframe tbody tr th {\n",
       "        vertical-align: top;\n",
       "    }\n",
       "</style>\n",
       "<table border=\"1\" class=\"dataframe\">\n",
       "  <thead>\n",
       "    <tr style=\"text-align: right;\">\n",
       "      <th></th>\n",
       "      <th>Year</th>\n",
       "      <th>City</th>\n",
       "      <th>Sport</th>\n",
       "      <th>Discipline</th>\n",
       "      <th>Athlete</th>\n",
       "      <th>Country</th>\n",
       "      <th>Gender</th>\n",
       "      <th>Event</th>\n",
       "      <th>Medal</th>\n",
       "    </tr>\n",
       "  </thead>\n",
       "  <tbody>\n",
       "    <tr>\n",
       "      <th>0</th>\n",
       "      <td>1924</td>\n",
       "      <td>Chamonix</td>\n",
       "      <td>Biathlon</td>\n",
       "      <td>Biathlon</td>\n",
       "      <td>BERTHET, G.</td>\n",
       "      <td>FRA</td>\n",
       "      <td>Men</td>\n",
       "      <td>Military Patrol</td>\n",
       "      <td>Bronze</td>\n",
       "    </tr>\n",
       "    <tr>\n",
       "      <th>1</th>\n",
       "      <td>1924</td>\n",
       "      <td>Chamonix</td>\n",
       "      <td>Biathlon</td>\n",
       "      <td>Biathlon</td>\n",
       "      <td>MANDRILLON, C.</td>\n",
       "      <td>FRA</td>\n",
       "      <td>Men</td>\n",
       "      <td>Military Patrol</td>\n",
       "      <td>Bronze</td>\n",
       "    </tr>\n",
       "    <tr>\n",
       "      <th>2</th>\n",
       "      <td>1924</td>\n",
       "      <td>Chamonix</td>\n",
       "      <td>Biathlon</td>\n",
       "      <td>Biathlon</td>\n",
       "      <td>MANDRILLON, Maurice</td>\n",
       "      <td>FRA</td>\n",
       "      <td>Men</td>\n",
       "      <td>Military Patrol</td>\n",
       "      <td>Bronze</td>\n",
       "    </tr>\n",
       "    <tr>\n",
       "      <th>3</th>\n",
       "      <td>1924</td>\n",
       "      <td>Chamonix</td>\n",
       "      <td>Biathlon</td>\n",
       "      <td>Biathlon</td>\n",
       "      <td>VANDELLE, André</td>\n",
       "      <td>FRA</td>\n",
       "      <td>Men</td>\n",
       "      <td>Military Patrol</td>\n",
       "      <td>Bronze</td>\n",
       "    </tr>\n",
       "    <tr>\n",
       "      <th>4</th>\n",
       "      <td>1924</td>\n",
       "      <td>Chamonix</td>\n",
       "      <td>Biathlon</td>\n",
       "      <td>Biathlon</td>\n",
       "      <td>AUFDENBLATTEN, Adolf</td>\n",
       "      <td>SUI</td>\n",
       "      <td>Men</td>\n",
       "      <td>Military Patrol</td>\n",
       "      <td>Gold</td>\n",
       "    </tr>\n",
       "  </tbody>\n",
       "</table>\n",
       "</div>"
      ],
      "text/plain": [
       "   Year      City     Sport Discipline               Athlete Country Gender  \\\n",
       "0  1924  Chamonix  Biathlon   Biathlon           BERTHET, G.     FRA    Men   \n",
       "1  1924  Chamonix  Biathlon   Biathlon        MANDRILLON, C.     FRA    Men   \n",
       "2  1924  Chamonix  Biathlon   Biathlon   MANDRILLON, Maurice     FRA    Men   \n",
       "3  1924  Chamonix  Biathlon   Biathlon       VANDELLE, André     FRA    Men   \n",
       "4  1924  Chamonix  Biathlon   Biathlon  AUFDENBLATTEN, Adolf     SUI    Men   \n",
       "\n",
       "             Event   Medal  \n",
       "0  Military Patrol  Bronze  \n",
       "1  Military Patrol  Bronze  \n",
       "2  Military Patrol  Bronze  \n",
       "3  Military Patrol  Bronze  \n",
       "4  Military Patrol    Gold  "
      ]
     },
     "execution_count": 27,
     "metadata": {},
     "output_type": "execute_result"
    }
   ],
   "source": [
    "# This file is delimited by spaces and not commas\n",
    "# summer_medalists = pd.read_csv(summer_olympic_medalists_fp)\n",
    "# summer_medalists.head()\n",
    "winter_olympics = pd.read_csv(winter_fp)\n",
    "winter_olympics.head()"
   ]
  },
  {
   "cell_type": "code",
   "execution_count": 106,
   "metadata": {
    "scrolled": true
   },
   "outputs": [
    {
     "data": {
      "text/html": [
       "<div>\n",
       "<style>\n",
       "    .dataframe thead tr:only-child th {\n",
       "        text-align: right;\n",
       "    }\n",
       "\n",
       "    .dataframe thead th {\n",
       "        text-align: left;\n",
       "    }\n",
       "\n",
       "    .dataframe tbody tr th {\n",
       "        vertical-align: top;\n",
       "    }\n",
       "</style>\n",
       "<table border=\"1\" class=\"dataframe\">\n",
       "  <thead>\n",
       "    <tr style=\"text-align: right;\">\n",
       "      <th></th>\n",
       "      <th>Year</th>\n",
       "      <th>City</th>\n",
       "      <th>Sport</th>\n",
       "      <th>Discipline</th>\n",
       "      <th>Athlete</th>\n",
       "      <th>Country</th>\n",
       "      <th>Gender</th>\n",
       "      <th>Event</th>\n",
       "      <th>Medal</th>\n",
       "    </tr>\n",
       "    <tr>\n",
       "      <th>Year</th>\n",
       "      <th></th>\n",
       "      <th></th>\n",
       "      <th></th>\n",
       "      <th></th>\n",
       "      <th></th>\n",
       "      <th></th>\n",
       "      <th></th>\n",
       "      <th></th>\n",
       "      <th></th>\n",
       "    </tr>\n",
       "  </thead>\n",
       "  <tbody>\n",
       "    <tr>\n",
       "      <th>1924</th>\n",
       "      <td>1924</td>\n",
       "      <td>Chamonix</td>\n",
       "      <td>Ice Hockey</td>\n",
       "      <td>Ice Hockey</td>\n",
       "      <td>ABEL, Clarence John</td>\n",
       "      <td>USA</td>\n",
       "      <td>Men</td>\n",
       "      <td>Ice Hockey</td>\n",
       "      <td>Silver</td>\n",
       "    </tr>\n",
       "    <tr>\n",
       "      <th>1924</th>\n",
       "      <td>1924</td>\n",
       "      <td>Chamonix</td>\n",
       "      <td>Ice Hockey</td>\n",
       "      <td>Ice Hockey</td>\n",
       "      <td>DRURY, Herbert L.</td>\n",
       "      <td>USA</td>\n",
       "      <td>Men</td>\n",
       "      <td>Ice Hockey</td>\n",
       "      <td>Silver</td>\n",
       "    </tr>\n",
       "    <tr>\n",
       "      <th>1924</th>\n",
       "      <td>1924</td>\n",
       "      <td>Chamonix</td>\n",
       "      <td>Ice Hockey</td>\n",
       "      <td>Ice Hockey</td>\n",
       "      <td>GERAN, N.</td>\n",
       "      <td>USA</td>\n",
       "      <td>Men</td>\n",
       "      <td>Ice Hockey</td>\n",
       "      <td>Silver</td>\n",
       "    </tr>\n",
       "    <tr>\n",
       "      <th>1924</th>\n",
       "      <td>1924</td>\n",
       "      <td>Chamonix</td>\n",
       "      <td>Ice Hockey</td>\n",
       "      <td>Ice Hockey</td>\n",
       "      <td>LACROIX, Alphonse</td>\n",
       "      <td>USA</td>\n",
       "      <td>Men</td>\n",
       "      <td>Ice Hockey</td>\n",
       "      <td>Silver</td>\n",
       "    </tr>\n",
       "    <tr>\n",
       "      <th>1924</th>\n",
       "      <td>1924</td>\n",
       "      <td>Chamonix</td>\n",
       "      <td>Ice Hockey</td>\n",
       "      <td>Ice Hockey</td>\n",
       "      <td>LANGLEY, John Arthur</td>\n",
       "      <td>USA</td>\n",
       "      <td>Men</td>\n",
       "      <td>Ice Hockey</td>\n",
       "      <td>Silver</td>\n",
       "    </tr>\n",
       "  </tbody>\n",
       "</table>\n",
       "</div>"
      ],
      "text/plain": [
       "      Year      City       Sport  Discipline               Athlete Country  \\\n",
       "Year                                                                         \n",
       "1924  1924  Chamonix  Ice Hockey  Ice Hockey   ABEL, Clarence John     USA   \n",
       "1924  1924  Chamonix  Ice Hockey  Ice Hockey     DRURY, Herbert L.     USA   \n",
       "1924  1924  Chamonix  Ice Hockey  Ice Hockey             GERAN, N.     USA   \n",
       "1924  1924  Chamonix  Ice Hockey  Ice Hockey     LACROIX, Alphonse     USA   \n",
       "1924  1924  Chamonix  Ice Hockey  Ice Hockey  LANGLEY, John Arthur     USA   \n",
       "\n",
       "     Gender       Event   Medal  \n",
       "Year                             \n",
       "1924    Men  Ice Hockey  Silver  \n",
       "1924    Men  Ice Hockey  Silver  \n",
       "1924    Men  Ice Hockey  Silver  \n",
       "1924    Men  Ice Hockey  Silver  \n",
       "1924    Men  Ice Hockey  Silver  "
      ]
     },
     "execution_count": 106,
     "metadata": {},
     "output_type": "execute_result"
    }
   ],
   "source": [
    "wint_oly = winter_olympics.set_index(winter_olympics['Year'])\n",
    "usa_olympic_df = wint_oly[wint_oly.Country == \"USA\"]\n",
    "usa_olympic_df.head()"
   ]
  },
  {
   "cell_type": "code",
   "execution_count": 104,
   "metadata": {
    "scrolled": true
   },
   "outputs": [
    {
     "name": "stderr",
     "output_type": "stream",
     "text": [
      "C:\\Users\\Ritter Gustave\\Anaconda3\\lib\\site-packages\\ipykernel_launcher.py:1: FutureWarning: 'Year' is both a column name and an index level.\n",
      "Defaulting to column but this will raise an ambiguity error in a future version\n",
      "  \"\"\"Entry point for launching an IPython kernel.\n"
     ]
    }
   ],
   "source": [
    "df = usa_olympic_df.groupby('Year')"
   ]
  },
  {
   "cell_type": "code",
   "execution_count": 105,
   "metadata": {},
   "outputs": [
    {
     "data": {
      "text/html": [
       "<div>\n",
       "<style>\n",
       "    .dataframe thead tr:only-child th {\n",
       "        text-align: right;\n",
       "    }\n",
       "\n",
       "    .dataframe thead th {\n",
       "        text-align: left;\n",
       "    }\n",
       "\n",
       "    .dataframe tbody tr th {\n",
       "        vertical-align: top;\n",
       "    }\n",
       "</style>\n",
       "<table border=\"1\" class=\"dataframe\">\n",
       "  <thead>\n",
       "    <tr style=\"text-align: right;\">\n",
       "      <th></th>\n",
       "      <th>Year</th>\n",
       "      <th>City</th>\n",
       "      <th>Sport</th>\n",
       "      <th>Discipline</th>\n",
       "      <th>Athlete</th>\n",
       "      <th>Country</th>\n",
       "      <th>Gender</th>\n",
       "      <th>Event</th>\n",
       "      <th>Medal</th>\n",
       "    </tr>\n",
       "    <tr>\n",
       "      <th>Year</th>\n",
       "      <th></th>\n",
       "      <th></th>\n",
       "      <th></th>\n",
       "      <th></th>\n",
       "      <th></th>\n",
       "      <th></th>\n",
       "      <th></th>\n",
       "      <th></th>\n",
       "      <th></th>\n",
       "    </tr>\n",
       "  </thead>\n",
       "  <tbody>\n",
       "    <tr>\n",
       "      <th>1924</th>\n",
       "      <td>1924</td>\n",
       "      <td>Chamonix</td>\n",
       "      <td>Ice Hockey</td>\n",
       "      <td>Ice Hockey</td>\n",
       "      <td>ABEL, Clarence John</td>\n",
       "      <td>USA</td>\n",
       "      <td>Men</td>\n",
       "      <td>Ice Hockey</td>\n",
       "      <td>Silver</td>\n",
       "    </tr>\n",
       "    <tr>\n",
       "      <th>1924</th>\n",
       "      <td>1924</td>\n",
       "      <td>Chamonix</td>\n",
       "      <td>Ice Hockey</td>\n",
       "      <td>Ice Hockey</td>\n",
       "      <td>DRURY, Herbert L.</td>\n",
       "      <td>USA</td>\n",
       "      <td>Men</td>\n",
       "      <td>Ice Hockey</td>\n",
       "      <td>Silver</td>\n",
       "    </tr>\n",
       "    <tr>\n",
       "      <th>1924</th>\n",
       "      <td>1924</td>\n",
       "      <td>Chamonix</td>\n",
       "      <td>Ice Hockey</td>\n",
       "      <td>Ice Hockey</td>\n",
       "      <td>GERAN, N.</td>\n",
       "      <td>USA</td>\n",
       "      <td>Men</td>\n",
       "      <td>Ice Hockey</td>\n",
       "      <td>Silver</td>\n",
       "    </tr>\n",
       "    <tr>\n",
       "      <th>1924</th>\n",
       "      <td>1924</td>\n",
       "      <td>Chamonix</td>\n",
       "      <td>Ice Hockey</td>\n",
       "      <td>Ice Hockey</td>\n",
       "      <td>LACROIX, Alphonse</td>\n",
       "      <td>USA</td>\n",
       "      <td>Men</td>\n",
       "      <td>Ice Hockey</td>\n",
       "      <td>Silver</td>\n",
       "    </tr>\n",
       "    <tr>\n",
       "      <th>1924</th>\n",
       "      <td>1924</td>\n",
       "      <td>Chamonix</td>\n",
       "      <td>Ice Hockey</td>\n",
       "      <td>Ice Hockey</td>\n",
       "      <td>LANGLEY, John Arthur</td>\n",
       "      <td>USA</td>\n",
       "      <td>Men</td>\n",
       "      <td>Ice Hockey</td>\n",
       "      <td>Silver</td>\n",
       "    </tr>\n",
       "  </tbody>\n",
       "</table>\n",
       "</div>"
      ],
      "text/plain": [
       "      Year      City       Sport  Discipline               Athlete Country  \\\n",
       "Year                                                                         \n",
       "1924  1924  Chamonix  Ice Hockey  Ice Hockey   ABEL, Clarence John     USA   \n",
       "1924  1924  Chamonix  Ice Hockey  Ice Hockey     DRURY, Herbert L.     USA   \n",
       "1924  1924  Chamonix  Ice Hockey  Ice Hockey             GERAN, N.     USA   \n",
       "1924  1924  Chamonix  Ice Hockey  Ice Hockey     LACROIX, Alphonse     USA   \n",
       "1924  1924  Chamonix  Ice Hockey  Ice Hockey  LANGLEY, John Arthur     USA   \n",
       "\n",
       "     Gender       Event   Medal  \n",
       "Year                             \n",
       "1924    Men  Ice Hockey  Silver  \n",
       "1924    Men  Ice Hockey  Silver  \n",
       "1924    Men  Ice Hockey  Silver  \n",
       "1924    Men  Ice Hockey  Silver  \n",
       "1924    Men  Ice Hockey  Silver  "
      ]
     },
     "execution_count": 105,
     "metadata": {},
     "output_type": "execute_result"
    }
   ],
   "source": [
    "# for year, oly_df in df:\n",
    "#     print(year)\n",
    "#     print(oly_df)\n",
    "df.get_group(1924).head()"
   ]
  },
  {
   "cell_type": "code",
   "execution_count": 36,
   "metadata": {},
   "outputs": [
    {
     "data": {
      "text/plain": [
       "65"
      ]
     },
     "execution_count": 36,
     "metadata": {},
     "output_type": "execute_result"
    }
   ],
   "source": [
    "medalList = []\n",
    "for medal in df.get_group(2014)['Medal']:\n",
    "    medalList.append(medal)\n",
    "len(medalList)"
   ]
  },
  {
   "cell_type": "code",
   "execution_count": 103,
   "metadata": {},
   "outputs": [],
   "source": [
    "listYear = []\n",
    "for year in usa_olympic_df['Year']:\n",
    "    if year not in listYear:\n",
    "        listYear.append(year)"
   ]
  },
  {
   "cell_type": "code",
   "execution_count": 52,
   "metadata": {
    "scrolled": false
   },
   "outputs": [],
   "source": [
    "medals = []\n",
    "currentYear = 1924\n",
    "us_progress_data = {\n",
    "    \"data\": []\n",
    "}\n",
    "temp_dict = {\n",
    "    \"Year\": 0,\n",
    "    \"Medals\": []\n",
    "}\n",
    "\n",
    "for year in listYear:\n",
    "    for medal in df.get_group(year)['Medal']:\n",
    "        if currentYear != year:\n",
    "            medals = []\n",
    "            currentYear = 1924\n",
    "            temp_dict[\"Year\"] = year\n",
    "            temp_dict[\"Medals\"] = []\n",
    "        temp_dict['Year'] = year\n",
    "        temp_dict['Medals'].append(medal)\n",
    "        currentYear = year\n",
    "    us_progress_data[\"data\"].append(temp_dict.copy())\n",
    "# print(temp_dict)\n",
    "# us_progress_data.update(temp_dict)\n",
    "# print(len(temp_dict['Medals']))"
   ]
  },
  {
   "cell_type": "code",
   "execution_count": 53,
   "metadata": {},
   "outputs": [
    {
     "name": "stdout",
     "output_type": "stream",
     "text": [
      "{'data': [{'Year': 1924, 'Medals': ['Silver', 'Silver', 'Silver', 'Silver', 'Silver', 'Silver', 'Silver', 'Silver', 'Silver', 'Silver', 'Silver', 'Gold', 'Bronze']}, {'Year': 1928, 'Medals': ['Gold', 'Gold', 'Gold', 'Gold', 'Gold', 'Silver', 'Silver', 'Silver', 'Silver', 'Silver', 'Gold', 'Silver', 'Bronze', 'Bronze']}, {'Year': 1932, 'Medals': ['Gold', 'Gold', 'Gold', 'Gold', 'Gold', 'Silver', 'Silver', 'Silver', 'Silver', 'Silver', 'Silver', 'Silver', 'Silver', 'Silver', 'Silver', 'Bronze', 'Bronze', 'Bronze', 'Bronze', 'Bronze', 'Bronze', 'Gold', 'Gold', 'Silver', 'Silver', 'Silver', 'Silver', 'Silver', 'Silver', 'Silver', 'Silver', 'Silver', 'Silver', 'Silver', 'Silver', 'Silver', 'Silver', 'Bronze', 'Silver', 'Silver', 'Gold', 'Gold', 'Gold', 'Silver', 'Gold']}, {'Year': 1936, 'Medals': ['Bronze', 'Bronze', 'Gold', 'Gold', 'Bronze', 'Bronze', 'Bronze', 'Bronze', 'Bronze', 'Bronze', 'Bronze', 'Bronze', 'Bronze', 'Bronze', 'Bronze', 'Bronze']}, {'Year': 1948, 'Medals': ['Bronze', 'Bronze', 'Bronze', 'Bronze', 'Gold', 'Gold', 'Gold', 'Gold', 'Bronze', 'Bronze', 'Silver', 'Gold', 'Silver', 'Silver', 'Silver', 'Gold']}, {'Year': 1952, 'Medals': ['Silver', 'Silver', 'Silver', 'Silver', 'Silver', 'Silver', 'Silver', 'Silver', 'Silver', 'Silver', 'Silver', 'Silver', 'Silver', 'Silver', 'Silver', 'Silver', 'Silver', 'Silver', 'Silver', 'Silver', 'Silver', 'Bronze', 'Gold', 'Silver', 'Silver', 'Silver', 'Gold', 'Silver', 'Gold', 'Gold']}, {'Year': 1956, 'Medals': ['Bronze', 'Bronze', 'Bronze', 'Bronze', 'Silver', 'Silver', 'Silver', 'Silver', 'Silver', 'Silver', 'Silver', 'Silver', 'Silver', 'Silver', 'Silver', 'Silver', 'Silver', 'Silver', 'Silver', 'Silver', 'Silver', 'Bronze', 'Gold', 'Silver', 'Gold', 'Silver']}, {'Year': 1960, 'Medals': ['Gold', 'Gold', 'Gold', 'Gold', 'Gold', 'Gold', 'Gold', 'Gold', 'Gold', 'Gold', 'Gold', 'Gold', 'Gold', 'Gold', 'Gold', 'Gold', 'Gold', 'Gold', 'Bronze', 'Gold', 'Bronze', 'Bronze', 'Silver', 'Bronze', 'Silver', 'Silver', 'Silver']}, {'Year': 1964, 'Medals': ['Bronze', 'Bronze', 'Bronze', 'Gold', 'Silver', 'Bronze', 'Silver', 'Bronze']}, {'Year': 1968, 'Medals': ['Silver', 'Gold', 'Bronze', 'Silver', 'Silver', 'Silver', 'Silver']}, {'Year': 1972, 'Medals': ['Silver', 'Silver', 'Silver', 'Silver', 'Silver', 'Silver', 'Silver', 'Silver', 'Silver', 'Silver', 'Silver', 'Silver', 'Silver', 'Silver', 'Silver', 'Silver', 'Silver', 'Silver', 'Bronze', 'Bronze', 'Gold', 'Silver', 'Gold', 'Bronze', 'Gold']}, {'Year': 1976, 'Medals': ['Bronze', 'Bronze', 'Gold', 'Gold', 'Bronze', 'Silver', 'Silver', 'Bronze', 'Gold', 'Bronze', 'Silver']}, {'Year': 1980, 'Medals': ['Gold', 'Gold', 'Gold', 'Gold', 'Gold', 'Gold', 'Gold', 'Gold', 'Gold', 'Gold', 'Gold', 'Gold', 'Gold', 'Gold', 'Gold', 'Gold', 'Gold', 'Gold', 'Gold', 'Bronze', 'Silver', 'Gold', 'Gold', 'Silver', 'Gold', 'Bronze', 'Gold', 'Gold', 'Silver', 'Silver']}, {'Year': 1984, 'Medals': ['Gold', 'Silver', 'Silver', 'Silver', 'Gold', 'Gold', 'Silver', 'Gold', 'Silver']}, {'Year': 1988, 'Medals': ['Gold', 'Bronze', 'Bronze', 'Bronze', 'Bronze', 'Silver', 'Gold']}, {'Year': 1992, 'Medals': ['Silver', 'Bronze', 'Gold', 'Silver', 'Silver', 'Silver', 'Silver', 'Gold', 'Gold', 'Gold', 'Silver', 'Silver', 'Bronze', 'Gold']}, {'Year': 1994, 'Medals': ['Silver', 'Bronze', 'Bronze', 'Bronze', 'Bronze', 'Bronze', 'Silver', 'Silver', 'Silver', 'Silver', 'Silver', 'Bronze', 'Gold', 'Gold', 'Gold', 'Gold', 'Gold', 'Silver', 'Silver', 'Gold', 'Silver']}, {'Year': 1998, 'Medals': ['Gold', 'Gold', 'Gold', 'Gold', 'Gold', 'Gold', 'Gold', 'Gold', 'Gold', 'Gold', 'Gold', 'Gold', 'Gold', 'Gold', 'Gold', 'Gold', 'Gold', 'Gold', 'Gold', 'Gold', 'Bronze', 'Bronze', 'Silver', 'Silver', 'Gold', 'Silver', 'Silver', 'Bronze', 'Gold', 'Gold', 'Gold', 'Gold', 'Bronze', 'Bronze']}, {'Year': 2002, 'Medals': ['Bronze', 'Bronze', 'Bronze', 'Bronze', 'Silver', 'Silver', 'Silver', 'Silver', 'Gold', 'Gold', 'Gold', 'Gold', 'Silver', 'Silver', 'Silver', 'Silver', 'Silver', 'Silver', 'Silver', 'Silver', 'Silver', 'Silver', 'Silver', 'Silver', 'Silver', 'Silver', 'Silver', 'Silver', 'Silver', 'Silver', 'Silver', 'Silver', 'Silver', 'Silver', 'Silver', 'Silver', 'Silver', 'Silver', 'Silver', 'Silver', 'Silver', 'Silver', 'Silver', 'Silver', 'Silver', 'Silver', 'Silver', 'Silver', 'Silver', 'Silver', 'Silver', 'Silver', 'Silver', 'Silver', 'Silver', 'Silver', 'Bronze', 'Bronze', 'Silver', 'Silver', 'Bronze', 'Bronze', 'Gold', 'Silver', 'Gold', 'Bronze', 'Bronze', 'Bronze', 'Gold', 'Gold', 'Bronze', 'Silver', 'Bronze', 'Gold', 'Silver', 'Silver', 'Silver', 'Silver', 'Silver', 'Bronze', 'Bronze', 'Gold', 'Silver', 'Gold']}, {'Year': 2006, 'Medals': ['Silver', 'Silver', 'Bronze', 'Bronze', 'Bronze', 'Bronze', 'Bronze', 'Bronze', 'Bronze', 'Bronze', 'Bronze', 'Bronze', 'Bronze', 'Bronze', 'Bronze', 'Bronze', 'Bronze', 'Bronze', 'Bronze', 'Bronze', 'Bronze', 'Bronze', 'Bronze', 'Bronze', 'Bronze', 'Bronze', 'Bronze', 'Silver', 'Silver', 'Silver', 'Bronze', 'Bronze', 'Bronze', 'Bronze', 'Bronze', 'Gold', 'Silver', 'Gold', 'Silver', 'Bronze', 'Silver', 'Gold', 'Gold', 'Gold', 'Gold', 'Bronze', 'Bronze', 'Gold', 'Silver', 'Gold', 'Silver', 'Gold', 'Silver']}, {'Year': 2010, 'Medals': ['Gold', 'Gold', 'Gold', 'Gold', 'Bronze', 'Bronze', 'Silver', 'Silver', 'Silver', 'Silver', 'Silver', 'Silver', 'Silver', 'Silver', 'Silver', 'Silver', 'Silver', 'Silver', 'Silver', 'Silver', 'Silver', 'Silver', 'Silver', 'Silver', 'Silver', 'Silver', 'Silver', 'Silver', 'Silver', 'Silver', 'Silver', 'Silver', 'Silver', 'Silver', 'Silver', 'Silver', 'Silver', 'Silver', 'Silver', 'Silver', 'Silver', 'Silver', 'Silver', 'Silver', 'Silver', 'Silver', 'Silver', 'Silver', 'Silver', 'Silver', 'Silver', 'Silver', 'Gold', 'Bronze', 'Silver', 'Bronze', 'Silver', 'Bronze', 'Bronze', 'Bronze', 'Bronze', 'Bronze', 'Bronze', 'Bronze', 'Bronze', 'Bronze', 'Bronze', 'Bronze', 'Gold', 'Silver', 'Silver', 'Silver', 'Silver', 'Silver', 'Bronze', 'Gold', 'Silver', 'Gold', 'Silver', 'Bronze', 'Silver', 'Bronze', 'Silver', 'Bronze', 'Bronze', 'Gold', 'Silver', 'Gold', 'Silver', 'Silver', 'Silver', 'Silver', 'Silver', 'Bronze', 'Gold', 'Bronze', 'Silver', 'Gold']}, {'Year': 2014, 'Medals': ['Bronze', 'Bronze', 'Bronze', 'Bronze', 'Bronze', 'Bronze', 'Bronze', 'Bronze', 'Silver', 'Silver', 'Bronze', 'Silver', 'Silver', 'Silver', 'Silver', 'Silver', 'Silver', 'Silver', 'Silver', 'Silver', 'Silver', 'Silver', 'Silver', 'Silver', 'Silver', 'Silver', 'Silver', 'Silver', 'Silver', 'Silver', 'Silver', 'Silver', 'Silver', 'Bronze', 'Gold', 'Bronze', 'Bronze', 'Bronze', 'Bronze', 'Gold', 'Bronze', 'Bronze', 'Bronze', 'Bronze', 'Silver', 'Silver', 'Silver', 'Silver', 'Gold', 'Bronze', 'Silver', 'Gold', 'Bronze', 'Gold', 'Gold', 'Bronze', 'Silver', 'Bronze', 'Gold', 'Silver', 'Gold', 'Bronze', 'Bronze', 'Gold', 'Gold']}]}\n"
     ]
    }
   ],
   "source": [
    "#    Gives Break down of\n",
    "# print(us_progress_data)"
   ]
  },
  {
   "cell_type": "code",
   "execution_count": 61,
   "metadata": {},
   "outputs": [
    {
     "data": {
      "text/plain": [
       "{'Medals': ['Gold',\n",
       "  'Gold',\n",
       "  'Gold',\n",
       "  'Gold',\n",
       "  'Gold',\n",
       "  'Silver',\n",
       "  'Silver',\n",
       "  'Silver',\n",
       "  'Silver',\n",
       "  'Silver',\n",
       "  'Silver',\n",
       "  'Silver',\n",
       "  'Silver',\n",
       "  'Silver',\n",
       "  'Silver',\n",
       "  'Bronze',\n",
       "  'Bronze',\n",
       "  'Bronze',\n",
       "  'Bronze',\n",
       "  'Bronze',\n",
       "  'Bronze',\n",
       "  'Gold',\n",
       "  'Gold',\n",
       "  'Silver',\n",
       "  'Silver',\n",
       "  'Silver',\n",
       "  'Silver',\n",
       "  'Silver',\n",
       "  'Silver',\n",
       "  'Silver',\n",
       "  'Silver',\n",
       "  'Silver',\n",
       "  'Silver',\n",
       "  'Silver',\n",
       "  'Silver',\n",
       "  'Silver',\n",
       "  'Silver',\n",
       "  'Bronze',\n",
       "  'Silver',\n",
       "  'Silver',\n",
       "  'Gold',\n",
       "  'Gold',\n",
       "  'Gold',\n",
       "  'Silver',\n",
       "  'Gold'],\n",
       " 'Year': 1932}"
      ]
     },
     "execution_count": 61,
     "metadata": {},
     "output_type": "execute_result"
    }
   ],
   "source": [
    "us_progress_data['data'][2]"
   ]
  },
  {
   "cell_type": "code",
   "execution_count": 64,
   "metadata": {},
   "outputs": [],
   "source": [
    "y = []\n",
    "for year in listYear:\n",
    "    for data in us_progress_data['data']:\n",
    "        if year == data['Year']:\n",
    "            y.append(len(data['Medals']))"
   ]
  },
  {
   "cell_type": "code",
   "execution_count": 66,
   "metadata": {},
   "outputs": [
    {
     "name": "stdout",
     "output_type": "stream",
     "text": [
      "[1924, 1928, 1932, 1936, 1948, 1952, 1956, 1960, 1964, 1968, 1972, 1976, 1980, 1984, 1988, 1992, 1994, 1998, 2002, 2006, 2010, 2014]\n",
      "[13, 14, 45, 16, 16, 30, 26, 27, 8, 7, 25, 11, 30, 9, 7, 14, 21, 34, 84, 53, 98, 65]\n"
     ]
    }
   ],
   "source": [
    "print(listYear)\n",
    "print(y)"
   ]
  },
  {
   "cell_type": "code",
   "execution_count": 80,
   "metadata": {},
   "outputs": [
    {
     "data": {
      "image/png": "[encoded data removed]",
      "text/plain": [
       "<matplotlib.figure.Figure at 0x1b0b8629c18>"
      ]
     },
     "metadata": {},
     "output_type": "display_data"
    }
   ],
   "source": [
    "plt.plot(listYear, y)\n",
    "plt.xlabel('Year')\n",
    "plt.ylabel('Medals Earned\\n(Bronze, Silver, Gold)')\n",
    "plt.title('Medals earned vs Compete year')\n",
    "plt.show()\n",
    "plt.savefig('Medals Earned vs Compete Year.png')"
   ]
  },
  {
   "cell_type": "code",
   "execution_count": 102,
   "metadata": {},
   "outputs": [
    {
     "name": "stdout",
     "output_type": "stream",
     "text": [
      "22\n"
     ]
    },
    {
     "data": {
      "image/png": "[encoded data removed]",
      "text/plain": [
       "<matplotlib.figure.Figure at 0x1b0b8402f98>"
      ]
     },
     "metadata": {},
     "output_type": "display_data"
    }
   ],
   "source": [
    "num_of_groups = len(listYear)\n",
    "print(num_of_groups)\n",
    "bronzelist = []\n",
    "silverlist = []\n",
    "goldlist = []\n",
    "for year in listYear:\n",
    "    for data in us_progress_data['data']:\n",
    "        if year == data['Year']:\n",
    "            bronzelist.append(data['Medals'].count('Bronze'))\n",
    "            silverlist.append(data['Medals'].count('Silver'))\n",
    "            goldlist.append(data['Medals'].count('Gold'))\n",
    "\n",
    "\n",
    "fig, ax = plt.subplots(figsize=(20,10))\n",
    "index = np.arange(num_of_groups)\n",
    "bar_width = 0.35\n",
    "\n",
    "opacity = 0.4\n",
    "error_config = {'ecolor': '0.3'}\n",
    "\n",
    "rects1 = ax.bar(index, bronzelist, bar_width, alpha = opacity, color = '#cd7f32',\n",
    "               error_kw = error_config, label = 'Bronze')\n",
    "rects2 = ax.bar(index, silverlist, bar_width, alpha = opacity, color = '#c0c0c0',\n",
    "               error_kw = error_config, label = 'Silver')\n",
    "rects3 = ax.bar(index, goldlist, bar_width, alpha = opacity, color = '#ffd700',\n",
    "               error_kw = error_config, label = 'Gold')\n",
    "\n",
    "ax.set_xlabel('Quality of Performance')\n",
    "ax.set_ylabel('Amount of Medals')\n",
    "ax.set_title('Quality Check')\n",
    "ax.set_xticks(index + bar_width / 3)\n",
    "ax.set_xticklabels(listYear)\n",
    "ax.legend()\n",
    "\n",
    "fig.tight_layout()\n",
    "plt.show()"
   ]
  },
  {
   "cell_type": "code",
   "execution_count": 98,
   "metadata": {
    "collapsed": true
   },
   "outputs": [],
   "source": []
  },
  {
   "cell_type": "code",
   "execution_count": null,
   "metadata": {
    "collapsed": true
   },
   "outputs": [],
   "source": []
  }
 ],
 "metadata": {
  "kernelspec": {
   "display_name": "Python 3",
   "language": "python",
   "name": "python3"
  },
  "language_info": {
   "codemirror_mode": {
    "name": "ipython",
    "version": 3
   },
   "file_extension": ".py",
   "mimetype": "text/x-python",
   "name": "python",
   "nbconvert_exporter": "python",
   "pygments_lexer": "ipython3",
   "version": "3.6.3"
  }
 },
 "nbformat": 4,
 "nbformat_minor": 2
}
