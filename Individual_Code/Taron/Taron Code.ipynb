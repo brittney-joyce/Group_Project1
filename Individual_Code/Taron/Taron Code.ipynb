{
 "cells": [
  {
   "cell_type": "code",
   "execution_count": 35,
   "metadata": {
    "collapsed": true
   },
   "outputs": [],
   "source": [
    "#Import dependencies\n",
    "import os\n",
    "import csv\n",
    "import pandas as pd\n",
    "import numpy as np\n",
    "import seaborn as sns\n",
    "import matplotlib.pyplot as plt\n",
    "import random\n"
   ]
  },
  {
   "cell_type": "code",
   "execution_count": 36,
   "metadata": {},
   "outputs": [],
   "source": [
    "#read csv\n",
    "file_one = os.path.join(\"olympicsall.csv\")\n",
    "olympics_df = pd.read_csv(file_one, encoding = \"ISO-8859-1\")\n",
    "olympics_df.dropna\n",
    "\n",
    "dict_df = pd.read_csv (\"olympic_dict.csv\", encoding = \"ISO-8859-1\")\n",
    "medcountry = pd.read_csv (\"countrymed.csv\", encoding = \"ISO-8859-1\")\n",
    "\n",
    "#Merge Summer and Winter Olympic Information\n",
    "SW_Merge = pd.merge(dict_df, medcountry, on=\"Country\")\n"
   ]
  },
  {
   "cell_type": "code",
   "execution_count": 37,
   "metadata": {},
   "outputs": [
    {
     "data": {
      "text/html": [
       "<div>\n",
       "<style>\n",
       "    .dataframe thead tr:only-child th {\n",
       "        text-align: right;\n",
       "    }\n",
       "\n",
       "    .dataframe thead th {\n",
       "        text-align: left;\n",
       "    }\n",
       "\n",
       "    .dataframe tbody tr th {\n",
       "        vertical-align: top;\n",
       "    }\n",
       "</style>\n",
       "<table border=\"1\" class=\"dataframe\">\n",
       "  <thead>\n",
       "    <tr style=\"text-align: right;\">\n",
       "      <th></th>\n",
       "      <th>Country</th>\n",
       "      <th>Population</th>\n",
       "      <th>GDP per Capita</th>\n",
       "      <th>Total Medal Count</th>\n",
       "    </tr>\n",
       "  </thead>\n",
       "  <tbody>\n",
       "    <tr>\n",
       "      <th>0</th>\n",
       "      <td>Afghanistan</td>\n",
       "      <td>32.53</td>\n",
       "      <td>594.32</td>\n",
       "      <td>2.0</td>\n",
       "    </tr>\n",
       "    <tr>\n",
       "      <th>1</th>\n",
       "      <td>Algeria</td>\n",
       "      <td>39.67</td>\n",
       "      <td>4206.03</td>\n",
       "      <td>15.0</td>\n",
       "    </tr>\n",
       "    <tr>\n",
       "      <th>2</th>\n",
       "      <td>Argentina</td>\n",
       "      <td>43.42</td>\n",
       "      <td>13431.88</td>\n",
       "      <td>259.0</td>\n",
       "    </tr>\n",
       "    <tr>\n",
       "      <th>3</th>\n",
       "      <td>Armenia</td>\n",
       "      <td>3.02</td>\n",
       "      <td>3489.13</td>\n",
       "      <td>11.0</td>\n",
       "    </tr>\n",
       "    <tr>\n",
       "      <th>4</th>\n",
       "      <td>Australia</td>\n",
       "      <td>23.78</td>\n",
       "      <td>56310.96</td>\n",
       "      <td>1204.0</td>\n",
       "    </tr>\n",
       "  </tbody>\n",
       "</table>\n",
       "</div>"
      ],
      "text/plain": [
       "       Country  Population  GDP per Capita  Total Medal Count\n",
       "0  Afghanistan       32.53          594.32                2.0\n",
       "1      Algeria       39.67         4206.03               15.0\n",
       "2    Argentina       43.42        13431.88              259.0\n",
       "3      Armenia        3.02         3489.13               11.0\n",
       "4    Australia       23.78        56310.96             1204.0"
      ]
     },
     "execution_count": 37,
     "metadata": {},
     "output_type": "execute_result"
    }
   ],
   "source": [
    "#Clean up and format df\n",
    "SW_Merge.dropna\n",
    "SW_Merge[\"Population\"] = SW_Merge['Population']*.000001\n",
    "SW_Merge.round(decimals=2).head(5)"
   ]
  },
  {
   "cell_type": "code",
   "execution_count": 38,
   "metadata": {},
   "outputs": [],
   "source": [
    "#Group df clean DF\n",
    "country_df = olympics_df.groupby('Country')\n",
    "pop_df=country_df['Population'].mean()*.000001\n",
    "medcount_df=country_df['Medal'].count()"
   ]
  },
  {
   "cell_type": "code",
   "execution_count": 39,
   "metadata": {},
   "outputs": [
    {
     "data": {
      "text/html": [
       "<div>\n",
       "<style>\n",
       "    .dataframe thead tr:only-child th {\n",
       "        text-align: right;\n",
       "    }\n",
       "\n",
       "    .dataframe thead th {\n",
       "        text-align: left;\n",
       "    }\n",
       "\n",
       "    .dataframe tbody tr th {\n",
       "        vertical-align: top;\n",
       "    }\n",
       "</style>\n",
       "<table border=\"1\" class=\"dataframe\">\n",
       "  <thead>\n",
       "    <tr style=\"text-align: right;\">\n",
       "      <th></th>\n",
       "      <th>Population</th>\n",
       "      <th>Medal</th>\n",
       "    </tr>\n",
       "    <tr>\n",
       "      <th>Country</th>\n",
       "      <th></th>\n",
       "      <th></th>\n",
       "    </tr>\n",
       "  </thead>\n",
       "  <tbody>\n",
       "    <tr>\n",
       "      <th>Afghanistan</th>\n",
       "      <td>32.526562</td>\n",
       "      <td>2</td>\n",
       "    </tr>\n",
       "    <tr>\n",
       "      <th>Algeria</th>\n",
       "      <td>39.666519</td>\n",
       "      <td>15</td>\n",
       "    </tr>\n",
       "    <tr>\n",
       "      <th>Argentina</th>\n",
       "      <td>43.416755</td>\n",
       "      <td>259</td>\n",
       "    </tr>\n",
       "    <tr>\n",
       "      <th>Armenia</th>\n",
       "      <td>3.017712</td>\n",
       "      <td>11</td>\n",
       "    </tr>\n",
       "    <tr>\n",
       "      <th>Australia</th>\n",
       "      <td>23.781169</td>\n",
       "      <td>1204</td>\n",
       "    </tr>\n",
       "  </tbody>\n",
       "</table>\n",
       "</div>"
      ],
      "text/plain": [
       "             Population  Medal\n",
       "Country                       \n",
       "Afghanistan   32.526562      2\n",
       "Algeria       39.666519     15\n",
       "Argentina     43.416755    259\n",
       "Armenia        3.017712     11\n",
       "Australia     23.781169   1204"
      ]
     },
     "execution_count": 39,
     "metadata": {},
     "output_type": "execute_result"
    }
   ],
   "source": [
    "#Concat two dfs\n",
    "popmed_df=pd.concat([pop_df, medcount_df], axis=1) \n",
    "popmed_df.head()"
   ]
  },
  {
   "cell_type": "code",
   "execution_count": 40,
   "metadata": {},
   "outputs": [
    {
     "data": {
      "text/html": [
       "<div>\n",
       "<style>\n",
       "    .dataframe thead tr:only-child th {\n",
       "        text-align: right;\n",
       "    }\n",
       "\n",
       "    .dataframe thead th {\n",
       "        text-align: left;\n",
       "    }\n",
       "\n",
       "    .dataframe tbody tr th {\n",
       "        vertical-align: top;\n",
       "    }\n",
       "</style>\n",
       "<table border=\"1\" class=\"dataframe\">\n",
       "  <thead>\n",
       "    <tr style=\"text-align: right;\">\n",
       "      <th></th>\n",
       "      <th>Population (millions)</th>\n",
       "      <th>Total Medal Count</th>\n",
       "    </tr>\n",
       "    <tr>\n",
       "      <th>Country</th>\n",
       "      <th></th>\n",
       "      <th></th>\n",
       "    </tr>\n",
       "  </thead>\n",
       "  <tbody>\n",
       "    <tr>\n",
       "      <th>Afghanistan</th>\n",
       "      <td>32.526562</td>\n",
       "      <td>2</td>\n",
       "    </tr>\n",
       "    <tr>\n",
       "      <th>Algeria</th>\n",
       "      <td>39.666519</td>\n",
       "      <td>15</td>\n",
       "    </tr>\n",
       "    <tr>\n",
       "      <th>Argentina</th>\n",
       "      <td>43.416755</td>\n",
       "      <td>259</td>\n",
       "    </tr>\n",
       "    <tr>\n",
       "      <th>Armenia</th>\n",
       "      <td>3.017712</td>\n",
       "      <td>11</td>\n",
       "    </tr>\n",
       "    <tr>\n",
       "      <th>Australia</th>\n",
       "      <td>23.781169</td>\n",
       "      <td>1204</td>\n",
       "    </tr>\n",
       "  </tbody>\n",
       "</table>\n",
       "</div>"
      ],
      "text/plain": [
       "             Population (millions)  Total Medal Count\n",
       "Country                                              \n",
       "Afghanistan              32.526562                  2\n",
       "Algeria                  39.666519                 15\n",
       "Argentina                43.416755                259\n",
       "Armenia                   3.017712                 11\n",
       "Australia                23.781169               1204"
      ]
     },
     "execution_count": 40,
     "metadata": {},
     "output_type": "execute_result"
    }
   ],
   "source": [
    "#Rename Columns\n",
    "popmed_df.rename(columns={'Medal':'Total Medal Count', 'Population': 'Population (millions)'}, inplace=True)\n",
    "popmed_df.head()"
   ]
  },
  {
   "cell_type": "code",
   "execution_count": 41,
   "metadata": {},
   "outputs": [
    {
     "data": {
      "image/png": "[encoded data removed]",
      "text/plain": [
       "<matplotlib.figure.Figure at 0x26ab3b9c470>"
      ]
     },
     "metadata": {},
     "output_type": "display_data"
    }
   ],
   "source": [
    "#Plot Data\n",
    "popmed_df.plot(kind='scatter', x='Population (millions)', y='Total Medal Count')\n",
    "plt.xlim()\n",
    "plt.ylim(0,6000)\n",
    "plt.savefig('Pop vs Medal Count overall.png', dpi = 600)\n",
    "plt.show()\n"
   ]
  },
  {
   "cell_type": "code",
   "execution_count": 42,
   "metadata": {},
   "outputs": [
    {
     "data": {
      "image/png": "[encoded data removed]",
      "text/plain": [
       "<matplotlib.figure.Figure at 0x26ab3f2c128>"
      ]
     },
     "metadata": {},
     "output_type": "display_data"
    }
   ],
   "source": [
    "#Zoom in on plot\n",
    "popmed_df.plot(kind='scatter', x='Population (millions)', y='Total Medal Count')\n",
    "plt.xlim(0,250)\n",
    "plt.ylim(0,2200)\n",
    "plt.savefig('Pop vs Medal Count zoom 1.png', dpi = 600)\n",
    "plt.show()\n"
   ]
  },
  {
   "cell_type": "code",
   "execution_count": 43,
   "metadata": {},
   "outputs": [
    {
     "data": {
      "image/png": "[encoded data removed]",
      "text/plain": [
       "<matplotlib.figure.Figure at 0x26ab3b83c18>"
      ]
     },
     "metadata": {},
     "output_type": "display_data"
    }
   ],
   "source": [
    "#Zoom in more on plot\n",
    "popmed_df.plot(kind='scatter', x='Population (millions)', y='Total Medal Count')\n",
    "plt.xlim(0,60)\n",
    "plt.ylim(0,250)\n",
    "plt.savefig('Pop vs Medal Count zoom 2.png', dpi = 600)\n",
    "plt.show()"
   ]
  },
  {
   "cell_type": "code",
   "execution_count": 44,
   "metadata": {},
   "outputs": [
    {
     "data": {
      "text/html": [
       "<div>\n",
       "<style>\n",
       "    .dataframe thead tr:only-child th {\n",
       "        text-align: right;\n",
       "    }\n",
       "\n",
       "    .dataframe thead th {\n",
       "        text-align: left;\n",
       "    }\n",
       "\n",
       "    .dataframe tbody tr th {\n",
       "        vertical-align: top;\n",
       "    }\n",
       "</style>\n",
       "<table border=\"1\" class=\"dataframe\">\n",
       "  <thead>\n",
       "    <tr style=\"text-align: right;\">\n",
       "      <th></th>\n",
       "      <th>Number of Countries</th>\n",
       "    </tr>\n",
       "  </thead>\n",
       "  <tbody>\n",
       "    <tr>\n",
       "      <th>Under 3</th>\n",
       "      <td>26</td>\n",
       "    </tr>\n",
       "    <tr>\n",
       "      <th>3 to 8.4</th>\n",
       "      <td>26</td>\n",
       "    </tr>\n",
       "    <tr>\n",
       "      <th>8.4 to 20</th>\n",
       "      <td>26</td>\n",
       "    </tr>\n",
       "    <tr>\n",
       "      <th>20 to 50</th>\n",
       "      <td>25</td>\n",
       "    </tr>\n",
       "    <tr>\n",
       "      <th>50+</th>\n",
       "      <td>24</td>\n",
       "    </tr>\n",
       "  </tbody>\n",
       "</table>\n",
       "</div>"
      ],
      "text/plain": [
       "           Number of Countries\n",
       "Under 3                     26\n",
       "3 to 8.4                    26\n",
       "8.4 to 20                   26\n",
       "20 to 50                    25\n",
       "50+                         24"
      ]
     },
     "execution_count": 44,
     "metadata": {},
     "output_type": "execute_result"
    }
   ],
   "source": [
    "#Create Bins to segment data by population\n",
    "pop_bins = [0, 2.95, 8.400000, 20.000000, 50.000000, 99999999999 ]\n",
    "pop_names = [\"Under 3\", \"3 to 8.4\", \"8.4 to 20\", \"20 to 50 \", \"50+\"]\n",
    "\n",
    "# Categorize the Countries into population bins\n",
    "SW_Merge['Pop Seg']=pd.cut(SW_Merge[\"Population\"], pop_bins, labels=pop_names)\n",
    "SW_Merge.head(5)\n",
    "pop_demographics_totals = SW_Merge[\"Pop Seg\"].value_counts()\n",
    "pop_demographics_totals = pd.DataFrame({\"Number of Countries\": pop_demographics_totals})\n",
    "pop_demographics_totals.sort_index()"
   ]
  },
  {
   "cell_type": "code",
   "execution_count": 45,
   "metadata": {},
   "outputs": [
    {
     "data": {
      "image/png": "[encoded data removed]",
      "text/plain": [
       "<matplotlib.figure.Figure at 0x26ab3dcc898>"
      ]
     },
     "metadata": {},
     "output_type": "display_data"
    }
   ],
   "source": [
    "#Plot to see the results\n",
    "popseg_=SW_Merge.groupby('Pop Seg')\n",
    "med_=popseg_['Total Medal Count'].sum()\n",
    "pop_chart = med_.plot(kind=\"Bar\", title=\"POP Segments vs Medals\")\n",
    "pop_chart.set_xlabel(\"Population Segment(millions)\")\n",
    "pop_chart.set_ylabel(\"Number of Medals\")\n",
    "plt.savefig('Pop vs Medal Count bins', dpi = 600, bbox_inches = 'tight')\n",
    "plt.show()"
   ]
  },
  {
   "cell_type": "code",
   "execution_count": 46,
   "metadata": {},
   "outputs": [
    {
     "data": {
      "text/html": [
       "<div>\n",
       "<style>\n",
       "    .dataframe thead tr:only-child th {\n",
       "        text-align: right;\n",
       "    }\n",
       "\n",
       "    .dataframe thead th {\n",
       "        text-align: left;\n",
       "    }\n",
       "\n",
       "    .dataframe tbody tr th {\n",
       "        vertical-align: top;\n",
       "    }\n",
       "</style>\n",
       "<table border=\"1\" class=\"dataframe\">\n",
       "  <thead>\n",
       "    <tr style=\"text-align: right;\">\n",
       "      <th></th>\n",
       "      <th>Country</th>\n",
       "      <th>GDP per Capita</th>\n",
       "      <th>Total Medal Count</th>\n",
       "    </tr>\n",
       "  </thead>\n",
       "  <tbody>\n",
       "    <tr>\n",
       "      <th>0</th>\n",
       "      <td>Afghanistan</td>\n",
       "      <td>594.323081</td>\n",
       "      <td>2.0</td>\n",
       "    </tr>\n",
       "    <tr>\n",
       "      <th>1</th>\n",
       "      <td>Algeria</td>\n",
       "      <td>4206.031232</td>\n",
       "      <td>15.0</td>\n",
       "    </tr>\n",
       "    <tr>\n",
       "      <th>2</th>\n",
       "      <td>Argentina</td>\n",
       "      <td>13431.878340</td>\n",
       "      <td>259.0</td>\n",
       "    </tr>\n",
       "    <tr>\n",
       "      <th>3</th>\n",
       "      <td>Armenia</td>\n",
       "      <td>3489.127690</td>\n",
       "      <td>11.0</td>\n",
       "    </tr>\n",
       "    <tr>\n",
       "      <th>4</th>\n",
       "      <td>Australia</td>\n",
       "      <td>56310.962990</td>\n",
       "      <td>1204.0</td>\n",
       "    </tr>\n",
       "  </tbody>\n",
       "</table>\n",
       "</div>"
      ],
      "text/plain": [
       "       Country  GDP per Capita  Total Medal Count\n",
       "0  Afghanistan      594.323081                2.0\n",
       "1      Algeria     4206.031232               15.0\n",
       "2    Argentina    13431.878340              259.0\n",
       "3      Armenia     3489.127690               11.0\n",
       "4    Australia    56310.962990             1204.0"
      ]
     },
     "execution_count": 46,
     "metadata": {},
     "output_type": "execute_result"
    }
   ],
   "source": [
    "#new df with selected columns\n",
    "gdpmed_ser=SW_Merge[['Country', 'GDP per Capita', 'Total Medal Count']].copy()\n",
    "#gdpmed_ser[\"GDP per Capita\"]=gdpmed_ser[\"GDP per Capita\"].map(\"$ {:,.2f}\".format)\n",
    "gdpmed_ser.head()"
   ]
  },
  {
   "cell_type": "code",
   "execution_count": 47,
   "metadata": {},
   "outputs": [
    {
     "data": {
      "image/png": "[encoded data removed]",
      "text/plain": [
       "<matplotlib.figure.Figure at 0x26ab2ff0fd0>"
      ]
     },
     "metadata": {},
     "output_type": "display_data"
    }
   ],
   "source": [
    "#GDP per Capita plot\n",
    "gdpmed_ser.plot(kind='scatter', x='GDP per Capita', y='Total Medal Count')\n",
    "plt.xlim()\n",
    "plt.ylim(0,6000)\n",
    "plt.savefig('GDP vs Medal Count overall.png', dpi = 600)\n",
    "plt.show()"
   ]
  },
  {
   "cell_type": "code",
   "execution_count": 48,
   "metadata": {},
   "outputs": [
    {
     "data": {
      "image/png": "[encoded data removed]",
      "text/plain": [
       "<matplotlib.figure.Figure at 0x26ab2f159e8>"
      ]
     },
     "metadata": {},
     "output_type": "display_data"
    }
   ],
   "source": [
    "#GDP per Capita plot zoomed in\n",
    "gdpmed_ser.plot(kind='scatter', x='GDP per Capita', y='Total Medal Count')\n",
    "plt.xlim()\n",
    "plt.ylim(0,2000)\n",
    "plt.savefig('GDP vs Medal Count zoom 1.png', dpi = 600)\n",
    "plt.show()"
   ]
  },
  {
   "cell_type": "code",
   "execution_count": 49,
   "metadata": {},
   "outputs": [
    {
     "data": {
      "image/png": "[encoded data removed]",
      "text/plain": [
       "<matplotlib.figure.Figure at 0x26ab2eeb588>"
      ]
     },
     "metadata": {},
     "output_type": "display_data"
    }
   ],
   "source": [
    "#GDP per Capita plot zoomed in more\n",
    "gdpmed_ser.plot(kind='scatter', x='GDP per Capita', y='Total Medal Count')\n",
    "plt.xlim(0,5000)\n",
    "plt.ylim(0,500)\n",
    "plt.savefig('GDP vs Medal Count zoom 2.png', dpi = 600)\n",
    "plt.show()"
   ]
  },
  {
   "cell_type": "code",
   "execution_count": 50,
   "metadata": {},
   "outputs": [
    {
     "data": {
      "text/html": [
       "<div>\n",
       "<style>\n",
       "    .dataframe thead tr:only-child th {\n",
       "        text-align: right;\n",
       "    }\n",
       "\n",
       "    .dataframe thead th {\n",
       "        text-align: left;\n",
       "    }\n",
       "\n",
       "    .dataframe tbody tr th {\n",
       "        vertical-align: top;\n",
       "    }\n",
       "</style>\n",
       "<table border=\"1\" class=\"dataframe\">\n",
       "  <thead>\n",
       "    <tr style=\"text-align: right;\">\n",
       "      <th></th>\n",
       "      <th>Number of Countries</th>\n",
       "    </tr>\n",
       "  </thead>\n",
       "  <tbody>\n",
       "    <tr>\n",
       "      <th>Under $2,100</th>\n",
       "      <td>24</td>\n",
       "    </tr>\n",
       "    <tr>\n",
       "      <th>$2,100 to 5,600</th>\n",
       "      <td>23</td>\n",
       "    </tr>\n",
       "    <tr>\n",
       "      <th>$5,600 to 12,000</th>\n",
       "      <td>23</td>\n",
       "    </tr>\n",
       "    <tr>\n",
       "      <th>$12,000 to 32,000</th>\n",
       "      <td>24</td>\n",
       "    </tr>\n",
       "    <tr>\n",
       "      <th>$32,000+</th>\n",
       "      <td>24</td>\n",
       "    </tr>\n",
       "  </tbody>\n",
       "</table>\n",
       "</div>"
      ],
      "text/plain": [
       "                   Number of Countries\n",
       "Under $2,100                        24\n",
       "$2,100 to 5,600                     23\n",
       "$5,600 to 12,000                    23\n",
       "$12,000 to 32,000                   24\n",
       "$32,000+                            24"
      ]
     },
     "execution_count": 50,
     "metadata": {},
     "output_type": "execute_result"
    }
   ],
   "source": [
    "#Bin GDP Data\n",
    "gdp_bins = [0, 2120, 5600, 12000, 32000, 999999 ]\n",
    "gdp_names = [\"Under $2,100\", \"$2,100 to 5,600\", \"$5,600 to 12,000\", \"$12,000 to 32,000\", \"$32,000+\"]\n",
    "\n",
    "# Categorize the Countries into population bins\n",
    "SW_Merge['GDP Seg']=pd.cut(SW_Merge[\"GDP per Capita\"], gdp_bins, labels=gdp_names)\n",
    "SW_Merge.head(5)\n",
    "#Visualize the breakdown of the segments\n",
    "gdp_demographics_totals = SW_Merge[\"GDP Seg\"].value_counts()\n",
    "gdp_demographics_totals = pd.DataFrame({\"Number of Countries\": gdp_demographics_totals})\n",
    "gdp_demographics_totals.sort_index()"
   ]
  },
  {
   "cell_type": "code",
   "execution_count": 51,
   "metadata": {},
   "outputs": [
    {
     "data": {
      "image/png": "[encoded data removed]",
      "text/plain": [
       "<matplotlib.figure.Figure at 0x26ab309fef0>"
      ]
     },
     "metadata": {},
     "output_type": "display_data"
    }
   ],
   "source": [
    "#GDP per capita Binned bar plot\n",
    "gdpseg_=SW_Merge.groupby('GDP Seg')\n",
    "med1_=gdpseg_['Total Medal Count'].sum()\n",
    "gdp_chart = med1_.plot(kind=\"Bar\", title=\"GDP Segments vs Medals\")\n",
    "gdp_chart.set_xlabel(\"GDP per Capita Segment\")\n",
    "gdp_chart.set_ylabel(\"Number of Medals\")\n",
    "plt.savefig('GDP vs Medal Count bins', dpi = 600, bbox_inches = 'tight')\n",
    "plt.show()"
   ]
  },
  {
   "cell_type": "code",
   "execution_count": null,
   "metadata": {
    "collapsed": true
   },
   "outputs": [],
   "source": []
  }
 ],
 "metadata": {
  "kernelspec": {
   "display_name": "Python 3",
   "language": "python",
   "name": "python3"
  },
  "language_info": {
   "codemirror_mode": {
    "name": "ipython",
    "version": 3
   },
   "file_extension": ".py",
   "mimetype": "text/x-python",
   "name": "python",
   "nbconvert_exporter": "python",
   "pygments_lexer": "ipython3",
   "version": "3.6.3"
  }
 },
 "nbformat": 4,
 "nbformat_minor": 2
}
