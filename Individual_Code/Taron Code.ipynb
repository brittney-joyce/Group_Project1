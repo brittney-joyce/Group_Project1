{
 "cells": [
  {
   "cell_type": "code",
   "execution_count": 28,
   "metadata": {
    "collapsed": true
   },
   "outputs": [],
   "source": [
    "import os\n",
    "import csv\n",
    "import pandas as pd\n",
    "import numpy as np\n",
    "import seaborn as sns\n",
    "import matplotlib.pyplot as plt\n",
    "import random\n",
    "import vincent"
   ]
  },
  {
   "cell_type": "code",
   "execution_count": 30,
   "metadata": {},
   "outputs": [
    {
     "data": {
      "text/html": [
       "<div>\n",
       "<style>\n",
       "    .dataframe thead tr:only-child th {\n",
       "        text-align: right;\n",
       "    }\n",
       "\n",
       "    .dataframe thead th {\n",
       "        text-align: left;\n",
       "    }\n",
       "\n",
       "    .dataframe tbody tr th {\n",
       "        vertical-align: top;\n",
       "    }\n",
       "</style>\n",
       "<table border=\"1\" class=\"dataframe\">\n",
       "  <thead>\n",
       "    <tr style=\"text-align: right;\">\n",
       "      <th></th>\n",
       "      <th>Year</th>\n",
       "      <th>Season</th>\n",
       "      <th>City</th>\n",
       "      <th>Sport</th>\n",
       "      <th>Discipline</th>\n",
       "      <th>Athlete</th>\n",
       "      <th>Country</th>\n",
       "      <th>Population</th>\n",
       "      <th>GDP per Capita</th>\n",
       "      <th>Gender</th>\n",
       "      <th>Event</th>\n",
       "      <th>Medal</th>\n",
       "    </tr>\n",
       "  </thead>\n",
       "  <tbody>\n",
       "    <tr>\n",
       "      <th>0</th>\n",
       "      <td>1896</td>\n",
       "      <td>Summer</td>\n",
       "      <td>Athens</td>\n",
       "      <td>Aquatics</td>\n",
       "      <td>Swimming</td>\n",
       "      <td>HAJOS, Alfred</td>\n",
       "      <td>Hungary</td>\n",
       "      <td>9844686.0</td>\n",
       "      <td>12363.54</td>\n",
       "      <td>Men</td>\n",
       "      <td>100M Freestyle</td>\n",
       "      <td>Gold</td>\n",
       "    </tr>\n",
       "    <tr>\n",
       "      <th>1</th>\n",
       "      <td>1896</td>\n",
       "      <td>Summer</td>\n",
       "      <td>Athens</td>\n",
       "      <td>Aquatics</td>\n",
       "      <td>Swimming</td>\n",
       "      <td>HERSCHMANN, Otto</td>\n",
       "      <td>Austria</td>\n",
       "      <td>8611088.0</td>\n",
       "      <td>43774.99</td>\n",
       "      <td>Men</td>\n",
       "      <td>100M Freestyle</td>\n",
       "      <td>Silver</td>\n",
       "    </tr>\n",
       "    <tr>\n",
       "      <th>2</th>\n",
       "      <td>1896</td>\n",
       "      <td>Summer</td>\n",
       "      <td>Athens</td>\n",
       "      <td>Aquatics</td>\n",
       "      <td>Swimming</td>\n",
       "      <td>DRIVAS, Dimitrios</td>\n",
       "      <td>Greece</td>\n",
       "      <td>10823732.0</td>\n",
       "      <td>18002.23</td>\n",
       "      <td>Men</td>\n",
       "      <td>100M Freestyle For Sailors</td>\n",
       "      <td>Bronze</td>\n",
       "    </tr>\n",
       "    <tr>\n",
       "      <th>3</th>\n",
       "      <td>1896</td>\n",
       "      <td>Summer</td>\n",
       "      <td>Athens</td>\n",
       "      <td>Aquatics</td>\n",
       "      <td>Swimming</td>\n",
       "      <td>MALOKINIS, Ioannis</td>\n",
       "      <td>Greece</td>\n",
       "      <td>10823732.0</td>\n",
       "      <td>18002.23</td>\n",
       "      <td>Men</td>\n",
       "      <td>100M Freestyle For Sailors</td>\n",
       "      <td>Gold</td>\n",
       "    </tr>\n",
       "    <tr>\n",
       "      <th>4</th>\n",
       "      <td>1896</td>\n",
       "      <td>Summer</td>\n",
       "      <td>Athens</td>\n",
       "      <td>Aquatics</td>\n",
       "      <td>Swimming</td>\n",
       "      <td>CHASAPIS, Spiridon</td>\n",
       "      <td>Greece</td>\n",
       "      <td>10823732.0</td>\n",
       "      <td>18002.23</td>\n",
       "      <td>Men</td>\n",
       "      <td>100M Freestyle For Sailors</td>\n",
       "      <td>Silver</td>\n",
       "    </tr>\n",
       "  </tbody>\n",
       "</table>\n",
       "</div>"
      ],
      "text/plain": [
       "   Year  Season    City     Sport Discipline             Athlete  Country  \\\n",
       "0  1896  Summer  Athens  Aquatics   Swimming       HAJOS, Alfred  Hungary   \n",
       "1  1896  Summer  Athens  Aquatics   Swimming    HERSCHMANN, Otto  Austria   \n",
       "2  1896  Summer  Athens  Aquatics   Swimming   DRIVAS, Dimitrios   Greece   \n",
       "3  1896  Summer  Athens  Aquatics   Swimming  MALOKINIS, Ioannis   Greece   \n",
       "4  1896  Summer  Athens  Aquatics   Swimming  CHASAPIS, Spiridon   Greece   \n",
       "\n",
       "   Population GDP per Capita Gender                       Event   Medal  \n",
       "0   9844686.0       12363.54    Men              100M Freestyle    Gold  \n",
       "1   8611088.0       43774.99    Men              100M Freestyle  Silver  \n",
       "2  10823732.0       18002.23    Men  100M Freestyle For Sailors  Bronze  \n",
       "3  10823732.0       18002.23    Men  100M Freestyle For Sailors    Gold  \n",
       "4  10823732.0       18002.23    Men  100M Freestyle For Sailors  Silver  "
      ]
     },
     "execution_count": 30,
     "metadata": {},
     "output_type": "execute_result"
    }
   ],
   "source": [
    "file_one = os.path.join(\"olympicsall.csv\")\n",
    "olympics_df = pd.read_csv(file_one, encoding = \"ISO-8859-1\")\n",
    "olympics_df.head()"
   ]
  },
  {
   "cell_type": "code",
   "execution_count": 37,
   "metadata": {},
   "outputs": [
    {
     "data": {
      "text/plain": [
       "0    Hungary\n",
       "1    Austria\n",
       "2     Greece\n",
       "3     Greece\n",
       "4     Greece\n",
       "Name: Country, dtype: object"
      ]
     },
     "execution_count": 37,
     "metadata": {},
     "output_type": "execute_result"
    }
   ],
   "source": [
    "#olympics_df['Population'] = pd.to_numeric(olympics_df['Population'])\n",
    "olympics_df['Country'].head()"
   ]
  },
  {
   "cell_type": "code",
   "execution_count": 32,
   "metadata": {},
   "outputs": [
    {
     "data": {
      "text/plain": [
       "Country\n",
       "Afghanistan       2\n",
       "Algeria          15\n",
       "Argentina       259\n",
       "Armenia          11\n",
       "Australia      1204\n",
       "Name: Medal, dtype: int64"
      ]
     },
     "execution_count": 32,
     "metadata": {},
     "output_type": "execute_result"
    }
   ],
   "source": [
    "country_df = olympics_df.groupby('Country')\n",
    "medcount_df=country_df['Medal'].count()\n",
    "\n",
    "medcount_df.head()"
   ]
  },
  {
   "cell_type": "code",
   "execution_count": 33,
   "metadata": {
    "collapsed": true
   },
   "outputs": [],
   "source": [
    "#medcount_df.head()"
   ]
  },
  {
   "cell_type": "code",
   "execution_count": 34,
   "metadata": {},
   "outputs": [
    {
     "data": {
      "text/plain": [
       "Country\n",
       "Afghanistan    32.526562\n",
       "Algeria        39.666519\n",
       "Argentina      43.416755\n",
       "Armenia         3.017712\n",
       "Australia      23.781169\n",
       "Name: Population, dtype: float64"
      ]
     },
     "execution_count": 34,
     "metadata": {},
     "output_type": "execute_result"
    }
   ],
   "source": [
    "#country_df = olympics_df.groupby('Country')\n",
    "pop_df=country_df['Population'].mean()*.000001\n",
    "pop_df.head()"
   ]
  },
  {
   "cell_type": "code",
   "execution_count": 35,
   "metadata": {},
   "outputs": [
    {
     "name": "stderr",
     "output_type": "stream",
     "text": [
      "C:\\Users\\hakob\\Anaconda3\\envs\\pydata\\lib\\site-packages\\ipykernel_launcher.py:1: FutureWarning: convert_objects is deprecated.  Use the data-type specific converters pd.to_datetime, pd.to_timedelta and pd.to_numeric.\n",
      "  \"\"\"Entry point for launching an IPython kernel.\n"
     ]
    }
   ],
   "source": [
    "pd.Series(olympics_df[\"GDP per Capita\"]).convert_objects(convert_numeric=True)\n",
    "#pd.Series(olympics_df.convert_objects(convert_numeric=True)\n",
    "#pd.Series(olympics_df[\"Population\"]).convert_objects(convert_numeric=True)\n",
    "#olympics_df[\"GDP per Capita\"]=olympics_df[\"GDP per Capita\"].map(\" {:,.0}\".format)\n",
    "\n",
    "gdp_df=olympics_df['GDP per Capita']"
   ]
  },
  {
   "cell_type": "code",
   "execution_count": 14,
   "metadata": {},
   "outputs": [
    {
     "data": {
      "text/html": [
       "<div>\n",
       "<style>\n",
       "    .dataframe thead tr:only-child th {\n",
       "        text-align: right;\n",
       "    }\n",
       "\n",
       "    .dataframe thead th {\n",
       "        text-align: left;\n",
       "    }\n",
       "\n",
       "    .dataframe tbody tr th {\n",
       "        vertical-align: top;\n",
       "    }\n",
       "</style>\n",
       "<table border=\"1\" class=\"dataframe\">\n",
       "  <thead>\n",
       "    <tr style=\"text-align: right;\">\n",
       "      <th></th>\n",
       "      <th>Population</th>\n",
       "      <th>Medal</th>\n",
       "    </tr>\n",
       "    <tr>\n",
       "      <th>Country</th>\n",
       "      <th></th>\n",
       "      <th></th>\n",
       "    </tr>\n",
       "  </thead>\n",
       "  <tbody>\n",
       "    <tr>\n",
       "      <th>Afghanistan</th>\n",
       "      <td>32.526562</td>\n",
       "      <td>2</td>\n",
       "    </tr>\n",
       "    <tr>\n",
       "      <th>Algeria</th>\n",
       "      <td>39.666519</td>\n",
       "      <td>15</td>\n",
       "    </tr>\n",
       "    <tr>\n",
       "      <th>Argentina</th>\n",
       "      <td>43.416755</td>\n",
       "      <td>259</td>\n",
       "    </tr>\n",
       "    <tr>\n",
       "      <th>Armenia</th>\n",
       "      <td>3.017712</td>\n",
       "      <td>11</td>\n",
       "    </tr>\n",
       "    <tr>\n",
       "      <th>Australia</th>\n",
       "      <td>23.781169</td>\n",
       "      <td>1204</td>\n",
       "    </tr>\n",
       "  </tbody>\n",
       "</table>\n",
       "</div>"
      ],
      "text/plain": [
       "             Population  Medal\n",
       "Country                       \n",
       "Afghanistan   32.526562      2\n",
       "Algeria       39.666519     15\n",
       "Argentina     43.416755    259\n",
       "Armenia        3.017712     11\n",
       "Australia     23.781169   1204"
      ]
     },
     "execution_count": 14,
     "metadata": {},
     "output_type": "execute_result"
    }
   ],
   "source": [
    "\n",
    "popmed_df=pd.concat([pop_df, medcount_df], axis=1) \n",
    "popmed_df.head()"
   ]
  },
  {
   "cell_type": "code",
   "execution_count": 15,
   "metadata": {},
   "outputs": [
    {
     "data": {
      "text/html": [
       "<div id=\"vis334eeea267e349a381ddd5ecd1e2f7b8\"></div>\n",
       "<script>\n",
       "   ( function() {\n",
       "     var _do_plot = function() {\n",
       "       if (typeof vg === 'undefined') {\n",
       "         window.addEventListener('vincent_libs_loaded', _do_plot)\n",
       "         return;\n",
       "       }\n",
       "       vg.parse.spec({\"axes\": [{\"scale\": \"x\", \"title\": \"Index\", \"type\": \"x\"}, {\"scale\": \"y\", \"title\": \"Data Value\", \"type\": \"y\"}], \"data\": [{\"name\": \"table\", \"values\": [{\"col\": \"Population\", \"idx\": \"Afghanistan\", \"val\": 32.526562}, {\"col\": \"Medal\", \"idx\": \"Afghanistan\", \"val\": 2.0}, {\"col\": \"Population\", \"idx\": \"Algeria\", \"val\": 39.666519}, {\"col\": \"Medal\", \"idx\": \"Algeria\", \"val\": 15.0}, {\"col\": \"Population\", \"idx\": \"Argentina\", \"val\": 43.416754999999995}, {\"col\": \"Medal\", \"idx\": \"Argentina\", \"val\": 259.0}, {\"col\": \"Population\", \"idx\": \"Armenia\", \"val\": 3.017712}, {\"col\": \"Medal\", \"idx\": \"Armenia\", \"val\": 11.0}, {\"col\": \"Population\", \"idx\": \"Australia\", \"val\": 23.781169}, {\"col\": \"Medal\", \"idx\": \"Australia\", \"val\": 1204.0}, {\"col\": \"Population\", \"idx\": \"Austria\", \"val\": 8.611087999999999}, {\"col\": \"Medal\", \"idx\": \"Austria\", \"val\": 426.0}, {\"col\": \"Population\", \"idx\": \"Azerbaijan\", \"val\": 9.651349}, {\"col\": \"Medal\", \"idx\": \"Azerbaijan\", \"val\": 26.0}, {\"col\": \"Population\", \"idx\": \"Bahamas\", \"val\": 0.388019}, {\"col\": \"Medal\", \"idx\": \"Bahamas\", \"val\": 27.0}, {\"col\": \"Population\", \"idx\": \"Bahrain\", \"val\": 1.377237}, {\"col\": \"Medal\", \"idx\": \"Bahrain\", \"val\": 1.0}, {\"col\": \"Population\", \"idx\": \"Barbados\", \"val\": 0.284215}, {\"col\": \"Medal\", \"idx\": \"Barbados\", \"val\": 1.0}, {\"col\": \"Population\", \"idx\": \"Belarus\", \"val\": 9.513}, {\"col\": \"Medal\", \"idx\": \"Belarus\", \"val\": 128.0}, {\"col\": \"Population\", \"idx\": \"Belgium\", \"val\": 11.285720999999999}, {\"col\": \"Medal\", \"idx\": \"Belgium\", \"val\": 424.0}, {\"col\": \"Population\", \"idx\": \"Bermuda*\", \"val\": 0.065235}, {\"col\": \"Medal\", \"idx\": \"Bermuda*\", \"val\": 1.0}, {\"col\": \"Population\", \"idx\": \"Botswana\", \"val\": 2.262485}, {\"col\": \"Medal\", \"idx\": \"Botswana\", \"val\": 1.0}, {\"col\": \"Population\", \"idx\": \"Brazil\", \"val\": 207.84752799999998}, {\"col\": \"Medal\", \"idx\": \"Brazil\", \"val\": 431.0}, {\"col\": \"Population\", \"idx\": \"Bulgaria\", \"val\": 7.177991}, {\"col\": \"Medal\", \"idx\": \"Bulgaria\", \"val\": 339.0}, {\"col\": \"Population\", \"idx\": \"Burundi\", \"val\": 11.178920999999999}, {\"col\": \"Medal\", \"idx\": \"Burundi\", \"val\": 1.0}, {\"col\": \"Population\", \"idx\": \"Cameroon\", \"val\": 23.344179}, {\"col\": \"Medal\", \"idx\": \"Cameroon\", \"val\": 23.0}, {\"col\": \"Population\", \"idx\": \"Canada\", \"val\": 35.851774}, {\"col\": \"Medal\", \"idx\": \"Canada\", \"val\": 1274.0}, {\"col\": \"Population\", \"idx\": \"Chile\", \"val\": 17.948141}, {\"col\": \"Medal\", \"idx\": \"Chile\", \"val\": 33.0}, {\"col\": \"Population\", \"idx\": \"China\", \"val\": 1371.22}, {\"col\": \"Medal\", \"idx\": \"China\", \"val\": 889.0}, {\"col\": \"Population\", \"idx\": \"Colombia\", \"val\": 48.228704}, {\"col\": \"Medal\", \"idx\": \"Colombia\", \"val\": 19.0}, {\"col\": \"Population\", \"idx\": \"Costa Rica\", \"val\": 4.80785}, {\"col\": \"Medal\", \"idx\": \"Costa Rica\", \"val\": 4.0}, {\"col\": \"Population\", \"idx\": \"Cote d'Ivoire\", \"val\": 22.701556}, {\"col\": \"Medal\", \"idx\": \"Cote d'Ivoire\", \"val\": 1.0}, {\"col\": \"Population\", \"idx\": \"Croatia\", \"val\": 4.224404}, {\"col\": \"Medal\", \"idx\": \"Croatia\", \"val\": 125.0}, {\"col\": \"Population\", \"idx\": \"Cuba\", \"val\": 11.389562}, {\"col\": \"Medal\", \"idx\": \"Cuba\", \"val\": 410.0}, {\"col\": \"Population\", \"idx\": \"Cyprus\", \"val\": 1.1653}, {\"col\": \"Medal\", \"idx\": \"Cyprus\", \"val\": 1.0}, {\"col\": \"Population\", \"idx\": \"Czech Republic\", \"val\": 10.551219}, {\"col\": \"Medal\", \"idx\": \"Czech Republic\", \"val\": 131.0}, {\"col\": \"Population\", \"idx\": \"Denmark\", \"val\": 5.6760019999999995}, {\"col\": \"Medal\", \"idx\": \"Denmark\", \"val\": 512.0}, {\"col\": \"Population\", \"idx\": \"Djibouti\", \"val\": 0.887861}, {\"col\": \"Medal\", \"idx\": \"Djibouti\", \"val\": 1.0}, {\"col\": \"Population\", \"idx\": \"Dominican Republic\", \"val\": 10.528391}, {\"col\": \"Medal\", \"idx\": \"Dominican Republic\", \"val\": 6.0}, {\"col\": \"Population\", \"idx\": \"Ecuador\", \"val\": 16.144363}, {\"col\": \"Medal\", \"idx\": \"Ecuador\", \"val\": 2.0}, {\"col\": \"Population\", \"idx\": \"Egypt\", \"val\": 91.508084}, {\"col\": \"Medal\", \"idx\": \"Egypt\", \"val\": 28.0}, {\"col\": \"Population\", \"idx\": \"Eritrea\", \"val\": 0.0}, {\"col\": \"Medal\", \"idx\": \"Eritrea\", \"val\": 1.0}, {\"col\": \"Population\", \"idx\": \"Estonia\", \"val\": 1.311998}, {\"col\": \"Medal\", \"idx\": \"Estonia\", \"val\": 46.0}, {\"col\": \"Population\", \"idx\": \"Ethiopia\", \"val\": 99.39075}, {\"col\": \"Medal\", \"idx\": \"Ethiopia\", \"val\": 45.0}, {\"col\": \"Population\", \"idx\": \"Finland\", \"val\": 5.482012999999999}, {\"col\": \"Medal\", \"idx\": \"Finland\", \"val\": 890.0}, {\"col\": \"Population\", \"idx\": \"France\", \"val\": 66.808385}, {\"col\": \"Medal\", \"idx\": \"France\", \"val\": 1548.0}, {\"col\": \"Population\", \"idx\": \"Gabon\", \"val\": 1.7252919999999998}, {\"col\": \"Medal\", \"idx\": \"Gabon\", \"val\": 1.0}, {\"col\": \"Population\", \"idx\": \"Georgia\", \"val\": 3.679}, {\"col\": \"Medal\", \"idx\": \"Georgia\", \"val\": 25.0}, {\"col\": \"Population\", \"idx\": \"Germany\", \"val\": 81.413145}, {\"col\": \"Medal\", \"idx\": \"Germany\", \"val\": 1665.0}, {\"col\": \"Population\", \"idx\": \"Ghana\", \"val\": 27.409893}, {\"col\": \"Medal\", \"idx\": \"Ghana\", \"val\": 16.0}, {\"col\": \"Population\", \"idx\": \"Greece\", \"val\": 10.823732}, {\"col\": \"Medal\", \"idx\": \"Greece\", \"val\": 148.0}, {\"col\": \"Population\", \"idx\": \"Grenada\", \"val\": 0.10682499999999999}, {\"col\": \"Medal\", \"idx\": \"Grenada\", \"val\": 1.0}, {\"col\": \"Population\", \"idx\": \"Guatemala\", \"val\": 16.342897}, {\"col\": \"Medal\", \"idx\": \"Guatemala\", \"val\": 1.0}, {\"col\": \"Population\", \"idx\": \"Guyana\", \"val\": 0.767085}, {\"col\": \"Medal\", \"idx\": \"Guyana\", \"val\": 1.0}, {\"col\": \"Population\", \"idx\": \"Haiti\", \"val\": 10.711067}, {\"col\": \"Medal\", \"idx\": \"Haiti\", \"val\": 8.0}, {\"col\": \"Population\", \"idx\": \"Hong Kong*\", \"val\": 7.3057}, {\"col\": \"Medal\", \"idx\": \"Hong Kong*\", \"val\": 4.0}, {\"col\": \"Population\", \"idx\": \"Hungary\", \"val\": 9.844686}, {\"col\": \"Medal\", \"idx\": \"Hungary\", \"val\": 1091.0}, {\"col\": \"Population\", \"idx\": \"Iceland\", \"val\": 0.330823}, {\"col\": \"Medal\", \"idx\": \"Iceland\", \"val\": 17.0}, {\"col\": \"Population\", \"idx\": \"India\", \"val\": 1311.0505269999999}, {\"col\": \"Medal\", \"idx\": \"India\", \"val\": 184.0}, {\"col\": \"Population\", \"idx\": \"Indonesia\", \"val\": 257.563815}, {\"col\": \"Medal\", \"idx\": \"Indonesia\", \"val\": 38.0}, {\"col\": \"Population\", \"idx\": \"Iran\", \"val\": 79.10927199999999}, {\"col\": \"Medal\", \"idx\": \"Iran\", \"val\": 61.0}, {\"col\": \"Population\", \"idx\": \"Iraq\", \"val\": 36.423395}, {\"col\": \"Medal\", \"idx\": \"Iraq\", \"val\": 1.0}, {\"col\": \"Population\", \"idx\": \"Ireland\", \"val\": 4.640702999999999}, {\"col\": \"Medal\", \"idx\": \"Ireland\", \"val\": 30.0}, {\"col\": \"Population\", \"idx\": \"Israel\", \"val\": 8.3804}, {\"col\": \"Medal\", \"idx\": \"Israel\", \"val\": 7.0}, {\"col\": \"Population\", \"idx\": \"Italy\", \"val\": 60.802085}, {\"col\": \"Medal\", \"idx\": \"Italy\", \"val\": 1488.0}, {\"col\": \"Population\", \"idx\": \"Jamaica\", \"val\": 2.7259409999999997}, {\"col\": \"Medal\", \"idx\": \"Jamaica\", \"val\": 127.0}, {\"col\": \"Population\", \"idx\": \"Japan\", \"val\": 126.958472}, {\"col\": \"Medal\", \"idx\": \"Japan\", \"val\": 851.0}, {\"col\": \"Population\", \"idx\": \"Kazakhstan\", \"val\": 17.544126}, {\"col\": \"Medal\", \"idx\": \"Kazakhstan\", \"val\": 56.0}, {\"col\": \"Population\", \"idx\": \"Kenya\", \"val\": 46.050301999999995}, {\"col\": \"Medal\", \"idx\": \"Kenya\", \"val\": 93.0}, {\"col\": \"Population\", \"idx\": \"Korea, North\", \"val\": 25.155317}, {\"col\": \"Medal\", \"idx\": \"Korea, North\", \"val\": 60.0}, {\"col\": \"Population\", \"idx\": \"Korea, South\", \"val\": 50.617045}, {\"col\": \"Medal\", \"idx\": \"Korea, South\", \"val\": 616.0}, {\"col\": \"Population\", \"idx\": \"Kuwait\", \"val\": 3.892115}, {\"col\": \"Medal\", \"idx\": \"Kuwait\", \"val\": 2.0}, {\"col\": \"Population\", \"idx\": \"Kyrgyzstan\", \"val\": 5.957}, {\"col\": \"Medal\", \"idx\": \"Kyrgyzstan\", \"val\": 3.0}, {\"col\": \"Population\", \"idx\": \"Latvia\", \"val\": 1.97844}, {\"col\": \"Medal\", \"idx\": \"Latvia\", \"val\": 35.0}, {\"col\": \"Population\", \"idx\": \"Lebanon\", \"val\": 5.850743}, {\"col\": \"Medal\", \"idx\": \"Lebanon\", \"val\": 4.0}, {\"col\": \"Population\", \"idx\": \"Liechtenstein\", \"val\": 0.037530999999999995}, {\"col\": \"Medal\", \"idx\": \"Liechtenstein\", \"val\": 9.0}, {\"col\": \"Population\", \"idx\": \"Lithuania\", \"val\": 2.910199}, {\"col\": \"Medal\", \"idx\": \"Lithuania\", \"val\": 55.0}, {\"col\": \"Population\", \"idx\": \"Luxembourg\", \"val\": 0.569676}, {\"col\": \"Medal\", \"idx\": \"Luxembourg\", \"val\": 4.0}, {\"col\": \"Population\", \"idx\": \"Macedonia\", \"val\": 2.078453}, {\"col\": \"Medal\", \"idx\": \"Macedonia\", \"val\": 1.0}, {\"col\": \"Population\", \"idx\": \"Malaysia\", \"val\": 30.331007}, {\"col\": \"Medal\", \"idx\": \"Malaysia\", \"val\": 8.0}, {\"col\": \"Population\", \"idx\": \"Mauritius\", \"val\": 1.262605}, {\"col\": \"Medal\", \"idx\": \"Mauritius\", \"val\": 1.0}, {\"col\": \"Population\", \"idx\": \"Mexico\", \"val\": 127.017224}, {\"col\": \"Medal\", \"idx\": \"Mexico\", \"val\": 106.0}, {\"col\": \"Population\", \"idx\": \"Moldova\", \"val\": 3.55415}, {\"col\": \"Medal\", \"idx\": \"Moldova\", \"val\": 6.0}, {\"col\": \"Population\", \"idx\": \"Mongolia\", \"val\": 2.9591339999999997}, {\"col\": \"Medal\", \"idx\": \"Mongolia\", \"val\": 24.0}, {\"col\": \"Population\", \"idx\": \"Morocco\", \"val\": 34.377511}, {\"col\": \"Medal\", \"idx\": \"Morocco\", \"val\": 22.0}, {\"col\": \"Population\", \"idx\": \"Mozambique\", \"val\": 27.977863}, {\"col\": \"Medal\", \"idx\": \"Mozambique\", \"val\": 2.0}, {\"col\": \"Population\", \"idx\": \"Namibia\", \"val\": 2.45883}, {\"col\": \"Medal\", \"idx\": \"Namibia\", \"val\": 4.0}, {\"col\": \"Population\", \"idx\": \"Netherlands\", \"val\": 16.936519999999998}, {\"col\": \"Medal\", \"idx\": \"Netherlands\", \"val\": 973.0}, {\"col\": \"Population\", \"idx\": \"Netherlands Antilles*\", \"val\": 0.0}, {\"col\": \"Medal\", \"idx\": \"Netherlands Antilles*\", \"val\": 1.0}, {\"col\": \"Population\", \"idx\": \"New Zealand\", \"val\": 4.5957}, {\"col\": \"Medal\", \"idx\": \"New Zealand\", \"val\": 191.0}, {\"col\": \"Population\", \"idx\": \"Niger\", \"val\": 19.89912}, {\"col\": \"Medal\", \"idx\": \"Niger\", \"val\": 1.0}, {\"col\": \"Population\", \"idx\": \"Nigeria\", \"val\": 182.20196199999998}, {\"col\": \"Medal\", \"idx\": \"Nigeria\", \"val\": 84.0}, {\"col\": \"Population\", \"idx\": \"Norway\", \"val\": 5.195920999999999}, {\"col\": \"Medal\", \"idx\": \"Norway\", \"val\": 1011.0}, {\"col\": \"Population\", \"idx\": \"Pakistan\", \"val\": 188.924874}, {\"col\": \"Medal\", \"idx\": \"Pakistan\", \"val\": 121.0}, {\"col\": \"Population\", \"idx\": \"Panama\", \"val\": 3.929141}, {\"col\": \"Medal\", \"idx\": \"Panama\", \"val\": 3.0}, {\"col\": \"Population\", \"idx\": \"Paraguay\", \"val\": 6.639123}, {\"col\": \"Medal\", \"idx\": \"Paraguay\", \"val\": 17.0}, {\"col\": \"Population\", \"idx\": \"Peru\", \"val\": 31.376669999999997}, {\"col\": \"Medal\", \"idx\": \"Peru\", \"val\": 15.0}, {\"col\": \"Population\", \"idx\": \"Philippines\", \"val\": 100.699395}, {\"col\": \"Medal\", \"idx\": \"Philippines\", \"val\": 9.0}, {\"col\": \"Population\", \"idx\": \"Poland\", \"val\": 37.999494}, {\"col\": \"Medal\", \"idx\": \"Poland\", \"val\": 538.0}, {\"col\": \"Population\", \"idx\": \"Portugal\", \"val\": 10.348647999999999}, {\"col\": \"Medal\", \"idx\": \"Portugal\", \"val\": 33.0}, {\"col\": \"Population\", \"idx\": \"Puerto Rico*\", \"val\": 3.474182}, {\"col\": \"Medal\", \"idx\": \"Puerto Rico*\", \"val\": 8.0}, {\"col\": \"Population\", \"idx\": \"Qatar\", \"val\": 2.2353549999999998}, {\"col\": \"Medal\", \"idx\": \"Qatar\", \"val\": 4.0}, {\"col\": \"Population\", \"idx\": \"Russia\", \"val\": 144.096812}, {\"col\": \"Medal\", \"idx\": \"Russia\", \"val\": 1031.0}, {\"col\": \"Population\", \"idx\": \"Saudi Arabia\", \"val\": 31.540371999999998}, {\"col\": \"Medal\", \"idx\": \"Saudi Arabia\", \"val\": 6.0}, {\"col\": \"Population\", \"idx\": \"Senegal\", \"val\": 15.129273}, {\"col\": \"Medal\", \"idx\": \"Senegal\", \"val\": 1.0}, {\"col\": \"Population\", \"idx\": \"Serbia\", \"val\": 7.098247}, {\"col\": \"Medal\", \"idx\": \"Serbia\", \"val\": 14.0}, {\"col\": \"Population\", \"idx\": \"Singapore\", \"val\": 5.5350019999999995}, {\"col\": \"Medal\", \"idx\": \"Singapore\", \"val\": 4.0}, {\"col\": \"Population\", \"idx\": \"Slovakia\", \"val\": 5.424049999999999}, {\"col\": \"Medal\", \"idx\": \"Slovakia\", \"val\": 39.0}, {\"col\": \"Population\", \"idx\": \"Slovenia\", \"val\": 2.063768}, {\"col\": \"Medal\", \"idx\": \"Slovenia\", \"val\": 44.0}, {\"col\": \"Population\", \"idx\": \"South Africa\", \"val\": 54.95692}, {\"col\": \"Medal\", \"idx\": \"South Africa\", \"val\": 106.0}, {\"col\": \"Population\", \"idx\": \"Spain\", \"val\": 46.418268999999995}, {\"col\": \"Medal\", \"idx\": \"Spain\", \"val\": 444.0}, {\"col\": \"Population\", \"idx\": \"Sri Lanka\", \"val\": 20.965999999999998}, {\"col\": \"Medal\", \"idx\": \"Sri Lanka\", \"val\": 2.0}, {\"col\": \"Population\", \"idx\": \"Sudan\", \"val\": 40.234882}, {\"col\": \"Medal\", \"idx\": \"Sudan\", \"val\": 1.0}, {\"col\": \"Population\", \"idx\": \"Suriname\", \"val\": 0.542975}, {\"col\": \"Medal\", \"idx\": \"Suriname\", \"val\": 2.0}, {\"col\": \"Population\", \"idx\": \"Sweden\", \"val\": 9.798871}, {\"col\": \"Medal\", \"idx\": \"Sweden\", \"val\": 1477.0}, {\"col\": \"Population\", \"idx\": \"Switzerland\", \"val\": 8.286976}, {\"col\": \"Medal\", \"idx\": \"Switzerland\", \"val\": 665.0}, {\"col\": \"Population\", \"idx\": \"Syria\", \"val\": 18.502413}, {\"col\": \"Medal\", \"idx\": \"Syria\", \"val\": 3.0}, {\"col\": \"Population\", \"idx\": \"Taiwan\", \"val\": 0.0}, {\"col\": \"Medal\", \"idx\": \"Taiwan\", \"val\": 44.0}, {\"col\": \"Population\", \"idx\": \"Tajikistan\", \"val\": 8.481855}, {\"col\": \"Medal\", \"idx\": \"Tajikistan\", \"val\": 3.0}, {\"col\": \"Population\", \"idx\": \"Tanzania\", \"val\": 53.47042}, {\"col\": \"Medal\", \"idx\": \"Tanzania\", \"val\": 2.0}, {\"col\": \"Population\", \"idx\": \"Thailand\", \"val\": 67.95935899999999}, {\"col\": \"Medal\", \"idx\": \"Thailand\", \"val\": 25.0}, {\"col\": \"Population\", \"idx\": \"Togo\", \"val\": 7.304577999999999}, {\"col\": \"Medal\", \"idx\": \"Togo\", \"val\": 1.0}, {\"col\": \"Population\", \"idx\": \"Tonga\", \"val\": 0.10617}, {\"col\": \"Medal\", \"idx\": \"Tonga\", \"val\": 1.0}, {\"col\": \"Population\", \"idx\": \"Trinidad and Tobago\", \"val\": 1.360088}, {\"col\": \"Medal\", \"idx\": \"Trinidad and Tobago\", \"val\": 20.0}, {\"col\": \"Population\", \"idx\": \"Tunisia\", \"val\": 11.1078}, {\"col\": \"Medal\", \"idx\": \"Tunisia\", \"val\": 10.0}, {\"col\": \"Population\", \"idx\": \"Turkey\", \"val\": 78.66583}, {\"col\": \"Medal\", \"idx\": \"Turkey\", \"val\": 86.0}, {\"col\": \"Population\", \"idx\": \"Uganda\", \"val\": 39.032382999999996}, {\"col\": \"Medal\", \"idx\": \"Uganda\", \"val\": 7.0}, {\"col\": \"Population\", \"idx\": \"Ukraine\", \"val\": 45.1982}, {\"col\": \"Medal\", \"idx\": \"Ukraine\", \"val\": 184.0}, {\"col\": \"Population\", \"idx\": \"United Arab Emirates\", \"val\": 9.156963}, {\"col\": \"Medal\", \"idx\": \"United Arab Emirates\", \"val\": 1.0}, {\"col\": \"Population\", \"idx\": \"United Kingdom\", \"val\": 65.138232}, {\"col\": \"Medal\", \"idx\": \"United Kingdom\", \"val\": 1799.0}, {\"col\": \"Population\", \"idx\": \"United States\", \"val\": 321.41882}, {\"col\": \"Medal\", \"idx\": \"United States\", \"val\": 5238.0}, {\"col\": \"Population\", \"idx\": \"Uruguay\", \"val\": 3.431555}, {\"col\": \"Medal\", \"idx\": \"Uruguay\", \"val\": 76.0}, {\"col\": \"Population\", \"idx\": \"Uzbekistan\", \"val\": 31.2995}, {\"col\": \"Medal\", \"idx\": \"Uzbekistan\", \"val\": 21.0}, {\"col\": \"Population\", \"idx\": \"Venezuela\", \"val\": 31.108082999999997}, {\"col\": \"Medal\", \"idx\": \"Venezuela\", \"val\": 12.0}, {\"col\": \"Population\", \"idx\": \"Vietnam\", \"val\": 91.7038}, {\"col\": \"Medal\", \"idx\": \"Vietnam\", \"val\": 2.0}, {\"col\": \"Population\", \"idx\": \"Virgin Islands*\", \"val\": 0.103574}, {\"col\": \"Medal\", \"idx\": \"Virgin Islands*\", \"val\": 1.0}, {\"col\": \"Population\", \"idx\": \"Zambia\", \"val\": 16.211767}, {\"col\": \"Medal\", \"idx\": \"Zambia\", \"val\": 2.0}, {\"col\": \"Population\", \"idx\": \"Zimbabwe\", \"val\": 15.602751}, {\"col\": \"Medal\", \"idx\": \"Zimbabwe\", \"val\": 23.0}]}], \"height\": 500, \"legends\": [{\"fill\": \"color\", \"offset\": 0, \"properties\": {}, \"title\": \"Categories\"}], \"marks\": [{\"from\": {\"data\": \"table\", \"transform\": [{\"keys\": [\"data.col\"], \"type\": \"facet\"}]}, \"marks\": [{\"properties\": {\"enter\": {\"fill\": {\"field\": \"data.col\", \"scale\": \"color\"}, \"size\": {\"value\": 100}, \"x\": {\"field\": \"data.idx\", \"scale\": \"x\"}, \"y\": {\"field\": \"data.val\", \"scale\": \"y\"}}}, \"type\": \"symbol\"}], \"type\": \"group\"}], \"padding\": \"auto\", \"scales\": [{\"domain\": {\"data\": \"table\", \"field\": \"data.idx\"}, \"name\": \"x\", \"range\": \"width\", \"type\": \"linear\"}, {\"domain\": {\"data\": \"table\", \"field\": \"data.val\"}, \"name\": \"y\", \"nice\": true, \"range\": \"height\"}, {\"domain\": {\"data\": \"table\", \"field\": \"data.col\"}, \"name\": \"color\", \"range\": [\"#8dd3c7\", \"#ffffb3\", \"#bebada\", \"#fb8072\", \"#80b1d3\", \"#fdb462\", \"#b3de69\", \"#fccde5\", \"#d9d9d9\", \"#bc80bd\", \"#ccebc5\", \"#ffed6f\"], \"type\": \"ordinal\"}], \"width\": 960}, function(chart) {\n",
       "         chart({el: \"#vis334eeea267e349a381ddd5ecd1e2f7b8\"}).update();\n",
       "       });\n",
       "     };\n",
       "     _do_plot();\n",
       "   })();\n",
       "</script>\n",
       "<style>.vega canvas {width: 100%;}</style>\n",
       "        "
      ],
      "text/plain": [
       "<vincent.charts.Scatter at 0x1caf61161d0>"
      ]
     },
     "execution_count": 15,
     "metadata": {},
     "output_type": "execute_result"
    }
   ],
   "source": [
    "scatter = vincent.Scatter(popmed_df)\n",
    "scatter.axis_titles(x='Index', y='Data Value')\n",
    "scatter.legend(title='Categories')\n",
    "scatter.colors(brew='Set3')"
   ]
  },
  {
   "cell_type": "code",
   "execution_count": 16,
   "metadata": {},
   "outputs": [
    {
     "data": {
      "image/png": "[encoded data removed]",
      "text/plain": [
       "<matplotlib.figure.Figure at 0x1caf6116ac8>"
      ]
     },
     "metadata": {},
     "output_type": "display_data"
    }
   ],
   "source": [
    "popmed_df.plot(kind='scatter', x='Population', y='Medal')\n",
    "plt.xlim()\n",
    "plt.ylim(0,6000)\n",
    "plt.show()"
   ]
  },
  {
   "cell_type": "code",
   "execution_count": 17,
   "metadata": {},
   "outputs": [
    {
     "data": {
      "image/png": "[encoded data removed]",
      "text/plain": [
       "<matplotlib.figure.Figure at 0x1caf60f1b00>"
      ]
     },
     "metadata": {},
     "output_type": "display_data"
    }
   ],
   "source": [
    "popmed_df.plot(kind='scatter', x='Population', y='Medal')\n",
    "plt.xlim(0,250)\n",
    "plt.ylim(0,2200)\n",
    "plt.show()"
   ]
  },
  {
   "cell_type": "code",
   "execution_count": 38,
   "metadata": {},
   "outputs": [
    {
     "data": {
      "text/html": [
       "<div>\n",
       "<style>\n",
       "    .dataframe thead tr:only-child th {\n",
       "        text-align: right;\n",
       "    }\n",
       "\n",
       "    .dataframe thead th {\n",
       "        text-align: left;\n",
       "    }\n",
       "\n",
       "    .dataframe tbody tr th {\n",
       "        vertical-align: top;\n",
       "    }\n",
       "</style>\n",
       "<table border=\"1\" class=\"dataframe\">\n",
       "  <thead>\n",
       "    <tr style=\"text-align: right;\">\n",
       "      <th></th>\n",
       "      <th>Number of Countries</th>\n",
       "    </tr>\n",
       "  </thead>\n",
       "  <tbody>\n",
       "    <tr>\n",
       "      <th>Under 3 million</th>\n",
       "      <td>26</td>\n",
       "    </tr>\n",
       "    <tr>\n",
       "      <th>3 million to 8.4 million</th>\n",
       "      <td>26</td>\n",
       "    </tr>\n",
       "    <tr>\n",
       "      <th>8.4 million to 20 million</th>\n",
       "      <td>26</td>\n",
       "    </tr>\n",
       "    <tr>\n",
       "      <th>20 million to 50 million</th>\n",
       "      <td>25</td>\n",
       "    </tr>\n",
       "    <tr>\n",
       "      <th>50 million+</th>\n",
       "      <td>24</td>\n",
       "    </tr>\n",
       "  </tbody>\n",
       "</table>\n",
       "</div>"
      ],
      "text/plain": [
       "                            Number of Countries\n",
       "Under 3 million                              26\n",
       "3 million to 8.4 million                     26\n",
       " 8.4 million to 20 million                   26\n",
       "20 million to 50 million                     25\n",
       "50 million+                                  24"
      ]
     },
     "execution_count": 38,
     "metadata": {},
     "output_type": "execute_result"
    }
   ],
   "source": [
    "pop_bins = [0, 2.95, 8.4, 20, 50, 9999 ]\n",
    "pop_names = [\"Under 3 million\", \"3 million to 8.4 million\", \" 8.4 million to 20 million\", \"20 million to 50 million\", \"50 million+\"]\n",
    "\n",
    "\n",
    "\n",
    "# Categorize the existing players using the age bins\n",
    "popmed_df[\"pop_bins\"] = pd.cut(popmed_df[\"Population\"], pop_bins, labels=pop_names)\n",
    "\n",
    "pop_demographics_totals = popmed_df[\"pop_bins\"].value_counts()\n",
    "pop_demographics_totals = pd.DataFrame({\"Number of Countries\": pop_demographics_totals})\n",
    "\n",
    "pop_demographics_totals.sort_index()"
   ]
  },
  {
   "cell_type": "code",
   "execution_count": null,
   "metadata": {
    "collapsed": true
   },
   "outputs": [],
   "source": []
  }
 ],
 "metadata": {
  "kernelspec": {
   "display_name": "Python 3",
   "language": "python",
   "name": "python3"
  },
  "language_info": {
   "codemirror_mode": {
    "name": "ipython",
    "version": 3
   },
   "file_extension": ".py",
   "mimetype": "text/x-python",
   "name": "python",
   "nbconvert_exporter": "python",
   "pygments_lexer": "ipython3",
   "version": "3.6.3"
  }
 },
 "nbformat": 4,
 "nbformat_minor": 2
}
