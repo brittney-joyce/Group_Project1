{
 "cells": [
  {
   "cell_type": "code",
   "execution_count": 27,
   "metadata": {},
   "outputs": [],
   "source": [
    "#Ran into the problem with encoding due to NAN values\n",
    "#Split the \"olympicsall.csv\" CSV into two different CSVs manually bc I was unable to do so \n",
    "##\"olympicsall.csv\" is a merged file of a csv containing summer info and another csv containing winter\n",
    "### split the \"olympicsall.csv\" into two csvs manually and found that the winter information had errors\n",
    "####used 'sort by' and deleted rows with errors in the country column, merged the two CSVs using pandas to save time\n",
    "\n",
    "#Import Dependencies\n",
    "import pandas as pd\n",
    "import numpy as np\n",
    "import matplotlib.pyplot as plt\n",
    "import seaborn as sns\n",
    "import math\n",
    "\n",
    "Summer_Data = pd.read_csv (\"Summer_Only.csv\")\n",
    "Winter_Data = pd.read_csv (\"Winter_Only.csv\")\n",
    "SW_Merge = Summer_Data.append(Winter_Data)\n",
    "SW_Merge.to_csv(\"Final_SW\", encoding=\"utf-8\", index=False)"
   ]
  }
 ],
 "metadata": {
  "kernelspec": {
   "display_name": "Python 3",
   "language": "python",
   "name": "python3"
  },
  "language_info": {
   "codemirror_mode": {
    "name": "ipython",
    "version": 3
   },
   "file_extension": ".py",
   "mimetype": "text/x-python",
   "name": "python",
   "nbconvert_exporter": "python",
   "pygments_lexer": "ipython3",
   "version": "3.6.3"
  }
 },
 "nbformat": 4,
 "nbformat_minor": 2
}
